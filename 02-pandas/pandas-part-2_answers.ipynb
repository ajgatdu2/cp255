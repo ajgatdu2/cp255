{
 "cells": [
  {
   "cell_type": "markdown",
   "metadata": {},
   "source": [
    "# Pandas part 2: Data types and missing values\n",
    "\n",
    "Notebook developed by Sam Maurer"
   ]
  },
  {
   "cell_type": "code",
   "execution_count": 50,
   "metadata": {},
   "outputs": [],
   "source": [
    "import numpy as np\n",
    "import pandas as pd"
   ]
  },
  {
   "cell_type": "markdown",
   "metadata": {},
   "source": [
    "## 1. Working with data types\n",
    "\n",
    "Python and Pandas will automatically assign appropriate types to your data."
   ]
  },
  {
   "cell_type": "code",
   "execution_count": 51,
   "metadata": {},
   "outputs": [],
   "source": [
    "df = pd.DataFrame({'x': [1.4, 5.98, 12.0, 0], \n",
    "                   'y': [17, 40, 52, 0], \n",
    "                   'z': ['tall', 'tall', 'tall', 'small']})"
   ]
  },
  {
   "cell_type": "code",
   "execution_count": 52,
   "metadata": {},
   "outputs": [
    {
     "name": "stdout",
     "output_type": "stream",
     "text": [
      "<class 'pandas.core.frame.DataFrame'>\n",
      "RangeIndex: 4 entries, 0 to 3\n",
      "Data columns (total 3 columns):\n",
      "x    4 non-null float64\n",
      "y    4 non-null int64\n",
      "z    4 non-null object\n",
      "dtypes: float64(1), int64(1), object(1)\n",
      "memory usage: 176.0+ bytes\n"
     ]
    }
   ],
   "source": [
    "df.info()"
   ]
  },
  {
   "cell_type": "markdown",
   "metadata": {},
   "source": [
    "(\"Object\" is what Pandas calls anything that's not numeric.)\n",
    "\n",
    "You can convert types like this:"
   ]
  },
  {
   "cell_type": "code",
   "execution_count": 53,
   "metadata": {},
   "outputs": [
    {
     "data": {
      "text/plain": [
       "0     1\n",
       "1     5\n",
       "2    12\n",
       "3     0\n",
       "Name: x, dtype: int64"
      ]
     },
     "execution_count": 53,
     "metadata": {},
     "output_type": "execute_result"
    }
   ],
   "source": [
    "df['x'].astype('int')"
   ]
  },
  {
   "cell_type": "code",
   "execution_count": 54,
   "metadata": {},
   "outputs": [
    {
     "data": {
      "text/plain": [
       "dtype('float64')"
      ]
     },
     "execution_count": 54,
     "metadata": {},
     "output_type": "execute_result"
    }
   ],
   "source": [
    "df['x'].dtype"
   ]
  },
  {
   "cell_type": "markdown",
   "metadata": {},
   "source": [
    "Reminder that when you apply a function to a Series or DataFrame, Python will calculate the result, but generally _not save it anywhere_ unless you use an `=` to assign the values to a new or existing variable/column.\n",
    "\n",
    "A data type of `int64` means integers with 64 bits of precision, which supports up to 19 decimal digits or so. The default bit precision varies from platform to platform, so it's safer to refer to generic types like `int` in your code, rather than specific ones, unless you have a good reason."
   ]
  },
  {
   "cell_type": "markdown",
   "metadata": {},
   "source": [
    "## 2. Working with missing values\n",
    "\n",
    "The standard way to denote a missing value in the Python data science world is with NumPy's `np.nan` object. "
   ]
  },
  {
   "cell_type": "code",
   "execution_count": 55,
   "metadata": {},
   "outputs": [],
   "source": [
    "df = pd.DataFrame({'x': [1.4, 5.98, np.nan, 0], \n",
    "                   'y': [17, 40, 52, -1]})"
   ]
  },
  {
   "cell_type": "code",
   "execution_count": 56,
   "metadata": {},
   "outputs": [
    {
     "data": {
      "text/html": [
       "<div>\n",
       "<style scoped>\n",
       "    .dataframe tbody tr th:only-of-type {\n",
       "        vertical-align: middle;\n",
       "    }\n",
       "\n",
       "    .dataframe tbody tr th {\n",
       "        vertical-align: top;\n",
       "    }\n",
       "\n",
       "    .dataframe thead th {\n",
       "        text-align: right;\n",
       "    }\n",
       "</style>\n",
       "<table border=\"1\" class=\"dataframe\">\n",
       "  <thead>\n",
       "    <tr style=\"text-align: right;\">\n",
       "      <th></th>\n",
       "      <th>x</th>\n",
       "      <th>y</th>\n",
       "    </tr>\n",
       "  </thead>\n",
       "  <tbody>\n",
       "    <tr>\n",
       "      <th>0</th>\n",
       "      <td>1.40</td>\n",
       "      <td>17</td>\n",
       "    </tr>\n",
       "    <tr>\n",
       "      <th>1</th>\n",
       "      <td>5.98</td>\n",
       "      <td>40</td>\n",
       "    </tr>\n",
       "    <tr>\n",
       "      <th>2</th>\n",
       "      <td>NaN</td>\n",
       "      <td>52</td>\n",
       "    </tr>\n",
       "    <tr>\n",
       "      <th>3</th>\n",
       "      <td>0.00</td>\n",
       "      <td>-1</td>\n",
       "    </tr>\n",
       "  </tbody>\n",
       "</table>\n",
       "</div>"
      ],
      "text/plain": [
       "      x   y\n",
       "0  1.40  17\n",
       "1  5.98  40\n",
       "2   NaN  52\n",
       "3  0.00  -1"
      ]
     },
     "execution_count": 56,
     "metadata": {},
     "output_type": "execute_result"
    }
   ],
   "source": [
    "df"
   ]
  },
  {
   "cell_type": "markdown",
   "metadata": {},
   "source": [
    "As you will recall from lecture, integers can't be missing! Mixing a NaN with integers  will cause Pandas to convert the whole column in to floating-point values. (This is not the end of the world, but generally better to avoid.)\n",
    "\n",
    "When you're loading data, a nice workflow is to leave the missing values in place, and just filter the rows so you can focus on the valid observations. This is similar to the approach we used with columns in the last demo.\n",
    "\n",
    "All the rows where \"x\" is not missing:"
   ]
  },
  {
   "cell_type": "code",
   "execution_count": 57,
   "metadata": {},
   "outputs": [
    {
     "data": {
      "text/html": [
       "<div>\n",
       "<style scoped>\n",
       "    .dataframe tbody tr th:only-of-type {\n",
       "        vertical-align: middle;\n",
       "    }\n",
       "\n",
       "    .dataframe tbody tr th {\n",
       "        vertical-align: top;\n",
       "    }\n",
       "\n",
       "    .dataframe thead th {\n",
       "        text-align: right;\n",
       "    }\n",
       "</style>\n",
       "<table border=\"1\" class=\"dataframe\">\n",
       "  <thead>\n",
       "    <tr style=\"text-align: right;\">\n",
       "      <th></th>\n",
       "      <th>x</th>\n",
       "      <th>y</th>\n",
       "    </tr>\n",
       "  </thead>\n",
       "  <tbody>\n",
       "    <tr>\n",
       "      <th>0</th>\n",
       "      <td>1.40</td>\n",
       "      <td>17</td>\n",
       "    </tr>\n",
       "    <tr>\n",
       "      <th>1</th>\n",
       "      <td>5.98</td>\n",
       "      <td>40</td>\n",
       "    </tr>\n",
       "    <tr>\n",
       "      <th>3</th>\n",
       "      <td>0.00</td>\n",
       "      <td>-1</td>\n",
       "    </tr>\n",
       "  </tbody>\n",
       "</table>\n",
       "</div>"
      ],
      "text/plain": [
       "      x   y\n",
       "0  1.40  17\n",
       "1  5.98  40\n",
       "3  0.00  -1"
      ]
     },
     "execution_count": 57,
     "metadata": {},
     "output_type": "execute_result"
    }
   ],
   "source": [
    "df.loc[df['x'].notnull()]"
   ]
  },
  {
   "cell_type": "markdown",
   "metadata": {},
   "source": [
    "How does this work, exactly? The logical statements you write inside the square brackets generate a boolean \"mask\" specifying which rows to include and which to drop.\n",
    "\n",
    "When you pass the mask to `df.loc[]`, it returns the relevant subset of rows.\n",
    "\n",
    "Here's what a mask looks like:"
   ]
  },
  {
   "cell_type": "code",
   "execution_count": 58,
   "metadata": {},
   "outputs": [
    {
     "data": {
      "text/plain": [
       "0    False\n",
       "1    False\n",
       "2     True\n",
       "3    False\n",
       "Name: x, dtype: bool"
      ]
     },
     "execution_count": 58,
     "metadata": {},
     "output_type": "execute_result"
    }
   ],
   "source": [
    "df['x'].isnull()  # converse of .notnull()"
   ]
  },
  {
   "cell_type": "markdown",
   "metadata": {},
   "source": [
    "Suppose a value of y = -1 indicates a missing value in the integer column.\n",
    "\n",
    "Here's how to filter those rows out:"
   ]
  },
  {
   "cell_type": "code",
   "execution_count": 59,
   "metadata": {},
   "outputs": [
    {
     "data": {
      "text/html": [
       "<div>\n",
       "<style scoped>\n",
       "    .dataframe tbody tr th:only-of-type {\n",
       "        vertical-align: middle;\n",
       "    }\n",
       "\n",
       "    .dataframe tbody tr th {\n",
       "        vertical-align: top;\n",
       "    }\n",
       "\n",
       "    .dataframe thead th {\n",
       "        text-align: right;\n",
       "    }\n",
       "</style>\n",
       "<table border=\"1\" class=\"dataframe\">\n",
       "  <thead>\n",
       "    <tr style=\"text-align: right;\">\n",
       "      <th></th>\n",
       "      <th>x</th>\n",
       "      <th>y</th>\n",
       "    </tr>\n",
       "  </thead>\n",
       "  <tbody>\n",
       "    <tr>\n",
       "      <th>0</th>\n",
       "      <td>1.40</td>\n",
       "      <td>17</td>\n",
       "    </tr>\n",
       "    <tr>\n",
       "      <th>1</th>\n",
       "      <td>5.98</td>\n",
       "      <td>40</td>\n",
       "    </tr>\n",
       "    <tr>\n",
       "      <th>2</th>\n",
       "      <td>NaN</td>\n",
       "      <td>52</td>\n",
       "    </tr>\n",
       "  </tbody>\n",
       "</table>\n",
       "</div>"
      ],
      "text/plain": [
       "      x   y\n",
       "0  1.40  17\n",
       "1  5.98  40\n",
       "2   NaN  52"
      ]
     },
     "execution_count": 59,
     "metadata": {},
     "output_type": "execute_result"
    }
   ],
   "source": [
    "df.loc[df['y'] != -1]  # '!=' means 'not equal'"
   ]
  },
  {
   "cell_type": "markdown",
   "metadata": {},
   "source": [
    "Combining two expresions to filter out all the incomplete observations:"
   ]
  },
  {
   "cell_type": "code",
   "execution_count": 60,
   "metadata": {},
   "outputs": [
    {
     "data": {
      "text/html": [
       "<div>\n",
       "<style scoped>\n",
       "    .dataframe tbody tr th:only-of-type {\n",
       "        vertical-align: middle;\n",
       "    }\n",
       "\n",
       "    .dataframe tbody tr th {\n",
       "        vertical-align: top;\n",
       "    }\n",
       "\n",
       "    .dataframe thead th {\n",
       "        text-align: right;\n",
       "    }\n",
       "</style>\n",
       "<table border=\"1\" class=\"dataframe\">\n",
       "  <thead>\n",
       "    <tr style=\"text-align: right;\">\n",
       "      <th></th>\n",
       "      <th>x</th>\n",
       "      <th>y</th>\n",
       "    </tr>\n",
       "  </thead>\n",
       "  <tbody>\n",
       "    <tr>\n",
       "      <th>0</th>\n",
       "      <td>1.40</td>\n",
       "      <td>17</td>\n",
       "    </tr>\n",
       "    <tr>\n",
       "      <th>1</th>\n",
       "      <td>5.98</td>\n",
       "      <td>40</td>\n",
       "    </tr>\n",
       "  </tbody>\n",
       "</table>\n",
       "</div>"
      ],
      "text/plain": [
       "      x   y\n",
       "0  1.40  17\n",
       "1  5.98  40"
      ]
     },
     "execution_count": 60,
     "metadata": {},
     "output_type": "execute_result"
    }
   ],
   "source": [
    "df.loc[df['x'].notnull() & \n",
    "       (df['y'] != -1)]"
   ]
  },
  {
   "cell_type": "markdown",
   "metadata": {},
   "source": [
    "There are not very many shortcuts for combining filter expressions, but one that can be useful is the `.isin()` function:"
   ]
  },
  {
   "cell_type": "code",
   "execution_count": 61,
   "metadata": {},
   "outputs": [
    {
     "data": {
      "text/html": [
       "<div>\n",
       "<style scoped>\n",
       "    .dataframe tbody tr th:only-of-type {\n",
       "        vertical-align: middle;\n",
       "    }\n",
       "\n",
       "    .dataframe tbody tr th {\n",
       "        vertical-align: top;\n",
       "    }\n",
       "\n",
       "    .dataframe thead th {\n",
       "        text-align: right;\n",
       "    }\n",
       "</style>\n",
       "<table border=\"1\" class=\"dataframe\">\n",
       "  <thead>\n",
       "    <tr style=\"text-align: right;\">\n",
       "      <th></th>\n",
       "      <th>x</th>\n",
       "      <th>y</th>\n",
       "    </tr>\n",
       "  </thead>\n",
       "  <tbody>\n",
       "    <tr>\n",
       "      <th>1</th>\n",
       "      <td>5.98</td>\n",
       "      <td>40</td>\n",
       "    </tr>\n",
       "    <tr>\n",
       "      <th>3</th>\n",
       "      <td>0.00</td>\n",
       "      <td>-1</td>\n",
       "    </tr>\n",
       "  </tbody>\n",
       "</table>\n",
       "</div>"
      ],
      "text/plain": [
       "      x   y\n",
       "1  5.98  40\n",
       "3  0.00  -1"
      ]
     },
     "execution_count": 61,
     "metadata": {},
     "output_type": "execute_result"
    }
   ],
   "source": [
    "df.loc[~df['y'].isin([17, 52])]"
   ]
  },
  {
   "cell_type": "markdown",
   "metadata": {},
   "source": [
    "All the comparison operators in one place:\n",
    "\n",
    "- `==` \"equals\" (because `=` assigns values)\n",
    "- `!=` \"does not equal\" \n",
    "- `&` \"and\"\n",
    "- `|` \"or\"\n",
    "- `~` \"not\"\n",
    "- `<` \"less than\"\n",
    "- `<=` \"less than or equal to\n",
    "- `>` \"greater than\"\n",
    "- `>=` \"greater than or equal to"
   ]
  },
  {
   "cell_type": "markdown",
   "metadata": {},
   "source": [
    "## 3. Using filters to edit data\n",
    "\n",
    "Occasionally you'll want to change specific cell values in a DataFrame.\n",
    "\n",
    "The syntax for this is a bit different from what we've been doing -- you need to ask for a specific set of rows, but also a specific column.\n",
    "\n",
    "Inside the square brackets, instead of `[expression]`, you use `[expression, colname]`:"
   ]
  },
  {
   "cell_type": "code",
   "execution_count": 62,
   "metadata": {},
   "outputs": [],
   "source": [
    "df.loc[df['y'] == -1, 'y'] = 999  # '==' tests equality, '=' assigns a value"
   ]
  },
  {
   "cell_type": "code",
   "execution_count": 63,
   "metadata": {},
   "outputs": [
    {
     "data": {
      "text/html": [
       "<div>\n",
       "<style scoped>\n",
       "    .dataframe tbody tr th:only-of-type {\n",
       "        vertical-align: middle;\n",
       "    }\n",
       "\n",
       "    .dataframe tbody tr th {\n",
       "        vertical-align: top;\n",
       "    }\n",
       "\n",
       "    .dataframe thead th {\n",
       "        text-align: right;\n",
       "    }\n",
       "</style>\n",
       "<table border=\"1\" class=\"dataframe\">\n",
       "  <thead>\n",
       "    <tr style=\"text-align: right;\">\n",
       "      <th></th>\n",
       "      <th>x</th>\n",
       "      <th>y</th>\n",
       "    </tr>\n",
       "  </thead>\n",
       "  <tbody>\n",
       "    <tr>\n",
       "      <th>0</th>\n",
       "      <td>1.40</td>\n",
       "      <td>17</td>\n",
       "    </tr>\n",
       "    <tr>\n",
       "      <th>1</th>\n",
       "      <td>5.98</td>\n",
       "      <td>40</td>\n",
       "    </tr>\n",
       "    <tr>\n",
       "      <th>2</th>\n",
       "      <td>NaN</td>\n",
       "      <td>52</td>\n",
       "    </tr>\n",
       "    <tr>\n",
       "      <th>3</th>\n",
       "      <td>0.00</td>\n",
       "      <td>999</td>\n",
       "    </tr>\n",
       "  </tbody>\n",
       "</table>\n",
       "</div>"
      ],
      "text/plain": [
       "      x    y\n",
       "0  1.40   17\n",
       "1  5.98   40\n",
       "2   NaN   52\n",
       "3  0.00  999"
      ]
     },
     "execution_count": 63,
     "metadata": {},
     "output_type": "execute_result"
    }
   ],
   "source": [
    "df"
   ]
  },
  {
   "cell_type": "markdown",
   "metadata": {},
   "source": [
    "## 4. A syntax shorthand for referring to columns\n",
    "\n",
    "Syntax like `df['y']` is hard to type. In most cases, you can use `df.y` instead!"
   ]
  },
  {
   "cell_type": "code",
   "execution_count": 64,
   "metadata": {},
   "outputs": [
    {
     "data": {
      "text/plain": [
       "0     17\n",
       "1     40\n",
       "2     52\n",
       "3    999\n",
       "Name: y, dtype: int64"
      ]
     },
     "execution_count": 64,
     "metadata": {},
     "output_type": "execute_result"
    }
   ],
   "source": [
    "df.y"
   ]
  },
  {
   "cell_type": "markdown",
   "metadata": {},
   "source": [
    "Rules for using the shorthand:\n",
    "\n",
    "1. The column must exist already.\n",
    "\n",
    "2. The column name must be valid as a Python variable. No spaces, hyphens, or \"reserved keywords\" like names of built-in DataFrame functions. "
   ]
  },
  {
   "cell_type": "code",
   "execution_count": 65,
   "metadata": {},
   "outputs": [
    {
     "data": {
      "text/html": [
       "<div>\n",
       "<style scoped>\n",
       "    .dataframe tbody tr th:only-of-type {\n",
       "        vertical-align: middle;\n",
       "    }\n",
       "\n",
       "    .dataframe tbody tr th {\n",
       "        vertical-align: top;\n",
       "    }\n",
       "\n",
       "    .dataframe thead th {\n",
       "        text-align: right;\n",
       "    }\n",
       "</style>\n",
       "<table border=\"1\" class=\"dataframe\">\n",
       "  <thead>\n",
       "    <tr style=\"text-align: right;\">\n",
       "      <th></th>\n",
       "      <th>x</th>\n",
       "      <th>y</th>\n",
       "    </tr>\n",
       "  </thead>\n",
       "  <tbody>\n",
       "    <tr>\n",
       "      <th>0</th>\n",
       "      <td>1.40</td>\n",
       "      <td>17</td>\n",
       "    </tr>\n",
       "    <tr>\n",
       "      <th>1</th>\n",
       "      <td>5.98</td>\n",
       "      <td>40</td>\n",
       "    </tr>\n",
       "    <tr>\n",
       "      <th>2</th>\n",
       "      <td>NaN</td>\n",
       "      <td>52</td>\n",
       "    </tr>\n",
       "    <tr>\n",
       "      <th>3</th>\n",
       "      <td>0.00</td>\n",
       "      <td>999</td>\n",
       "    </tr>\n",
       "  </tbody>\n",
       "</table>\n",
       "</div>"
      ],
      "text/plain": [
       "      x    y\n",
       "0  1.40   17\n",
       "1  5.98   40\n",
       "2   NaN   52\n",
       "3  0.00  999"
      ]
     },
     "execution_count": 65,
     "metadata": {},
     "output_type": "execute_result"
    }
   ],
   "source": [
    "df[df.y > 5]"
   ]
  },
  {
   "cell_type": "markdown",
   "metadata": {},
   "source": [
    "## Exercises"
   ]
  },
  {
   "cell_type": "markdown",
   "metadata": {},
   "source": [
    "### a. Identifying data types\n",
    "\n",
    "Load the Zillow DataFrame from `pandas-part-1`.\n",
    "\n",
    "What data type do the median rent columns have? Does this make sense? Why is it happening?"
   ]
  },
  {
   "cell_type": "code",
   "execution_count": 66,
   "metadata": {},
   "outputs": [
    {
     "data": {
      "text/html": [
       "<div>\n",
       "<style scoped>\n",
       "    .dataframe tbody tr th:only-of-type {\n",
       "        vertical-align: middle;\n",
       "    }\n",
       "\n",
       "    .dataframe tbody tr th {\n",
       "        vertical-align: top;\n",
       "    }\n",
       "\n",
       "    .dataframe thead th {\n",
       "        text-align: right;\n",
       "    }\n",
       "</style>\n",
       "<table border=\"1\" class=\"dataframe\">\n",
       "  <thead>\n",
       "    <tr style=\"text-align: right;\">\n",
       "      <th></th>\n",
       "      <th>RegionName</th>\n",
       "      <th>SizeRank</th>\n",
       "      <th>2010-01</th>\n",
       "      <th>2010-02</th>\n",
       "      <th>2010-03</th>\n",
       "      <th>2010-04</th>\n",
       "      <th>2010-05</th>\n",
       "      <th>2010-06</th>\n",
       "      <th>2010-07</th>\n",
       "      <th>2010-08</th>\n",
       "      <th>...</th>\n",
       "      <th>2019-03</th>\n",
       "      <th>2019-04</th>\n",
       "      <th>2019-05</th>\n",
       "      <th>2019-06</th>\n",
       "      <th>2019-07</th>\n",
       "      <th>2019-08</th>\n",
       "      <th>2019-09</th>\n",
       "      <th>2019-10</th>\n",
       "      <th>2019-11</th>\n",
       "      <th>2019-12</th>\n",
       "    </tr>\n",
       "  </thead>\n",
       "  <tbody>\n",
       "    <tr>\n",
       "      <th>0</th>\n",
       "      <td>United States</td>\n",
       "      <td>0</td>\n",
       "      <td>NaN</td>\n",
       "      <td>NaN</td>\n",
       "      <td>1350.0</td>\n",
       "      <td>1350.0</td>\n",
       "      <td>1350.0</td>\n",
       "      <td>1400.0</td>\n",
       "      <td>1300.0</td>\n",
       "      <td>1250.0</td>\n",
       "      <td>...</td>\n",
       "      <td>1650.0</td>\n",
       "      <td>1668.0</td>\n",
       "      <td>1675.0</td>\n",
       "      <td>1683.0</td>\n",
       "      <td>1683.0</td>\n",
       "      <td>1660.0</td>\n",
       "      <td>1632.0</td>\n",
       "      <td>1600.0</td>\n",
       "      <td>1599.0</td>\n",
       "      <td>1595.0</td>\n",
       "    </tr>\n",
       "    <tr>\n",
       "      <th>1</th>\n",
       "      <td>New York, NY</td>\n",
       "      <td>1</td>\n",
       "      <td>NaN</td>\n",
       "      <td>NaN</td>\n",
       "      <td>NaN</td>\n",
       "      <td>NaN</td>\n",
       "      <td>NaN</td>\n",
       "      <td>NaN</td>\n",
       "      <td>NaN</td>\n",
       "      <td>NaN</td>\n",
       "      <td>...</td>\n",
       "      <td>2450.0</td>\n",
       "      <td>2500.0</td>\n",
       "      <td>2500.0</td>\n",
       "      <td>2550.0</td>\n",
       "      <td>2500.0</td>\n",
       "      <td>2545.0</td>\n",
       "      <td>2500.0</td>\n",
       "      <td>2450.0</td>\n",
       "      <td>2400.0</td>\n",
       "      <td>2375.0</td>\n",
       "    </tr>\n",
       "    <tr>\n",
       "      <th>2</th>\n",
       "      <td>Los Angeles-Long Beach-Anaheim, CA</td>\n",
       "      <td>2</td>\n",
       "      <td>NaN</td>\n",
       "      <td>1950.0</td>\n",
       "      <td>1900.0</td>\n",
       "      <td>1992.5</td>\n",
       "      <td>1980.0</td>\n",
       "      <td>1997.0</td>\n",
       "      <td>2100.0</td>\n",
       "      <td>2150.0</td>\n",
       "      <td>...</td>\n",
       "      <td>2595.0</td>\n",
       "      <td>2605.0</td>\n",
       "      <td>2620.0</td>\n",
       "      <td>2628.0</td>\n",
       "      <td>2635.0</td>\n",
       "      <td>2650.0</td>\n",
       "      <td>2670.0</td>\n",
       "      <td>2650.0</td>\n",
       "      <td>2650.0</td>\n",
       "      <td>2650.0</td>\n",
       "    </tr>\n",
       "    <tr>\n",
       "      <th>3</th>\n",
       "      <td>Chicago, IL</td>\n",
       "      <td>3</td>\n",
       "      <td>NaN</td>\n",
       "      <td>NaN</td>\n",
       "      <td>1345.0</td>\n",
       "      <td>1350.0</td>\n",
       "      <td>1350.0</td>\n",
       "      <td>1400.0</td>\n",
       "      <td>1400.0</td>\n",
       "      <td>1375.0</td>\n",
       "      <td>...</td>\n",
       "      <td>1795.0</td>\n",
       "      <td>1765.0</td>\n",
       "      <td>1750.0</td>\n",
       "      <td>1750.0</td>\n",
       "      <td>1750.0</td>\n",
       "      <td>1705.0</td>\n",
       "      <td>1700.0</td>\n",
       "      <td>1640.0</td>\n",
       "      <td>1615.0</td>\n",
       "      <td>1600.0</td>\n",
       "    </tr>\n",
       "    <tr>\n",
       "      <th>4</th>\n",
       "      <td>Dallas-Fort Worth, TX</td>\n",
       "      <td>4</td>\n",
       "      <td>NaN</td>\n",
       "      <td>NaN</td>\n",
       "      <td>NaN</td>\n",
       "      <td>NaN</td>\n",
       "      <td>NaN</td>\n",
       "      <td>NaN</td>\n",
       "      <td>NaN</td>\n",
       "      <td>NaN</td>\n",
       "      <td>...</td>\n",
       "      <td>1611.0</td>\n",
       "      <td>1600.0</td>\n",
       "      <td>1595.0</td>\n",
       "      <td>1585.0</td>\n",
       "      <td>1582.0</td>\n",
       "      <td>1575.0</td>\n",
       "      <td>1580.0</td>\n",
       "      <td>1575.0</td>\n",
       "      <td>1572.0</td>\n",
       "      <td>1582.0</td>\n",
       "    </tr>\n",
       "  </tbody>\n",
       "</table>\n",
       "<p>5 rows × 122 columns</p>\n",
       "</div>"
      ],
      "text/plain": [
       "                           RegionName  SizeRank  2010-01  2010-02  2010-03  \\\n",
       "0                       United States         0      NaN      NaN   1350.0   \n",
       "1                        New York, NY         1      NaN      NaN      NaN   \n",
       "2  Los Angeles-Long Beach-Anaheim, CA         2      NaN   1950.0   1900.0   \n",
       "3                         Chicago, IL         3      NaN      NaN   1345.0   \n",
       "4               Dallas-Fort Worth, TX         4      NaN      NaN      NaN   \n",
       "\n",
       "   2010-04  2010-05  2010-06  2010-07  2010-08   ...     2019-03  2019-04  \\\n",
       "0   1350.0   1350.0   1400.0   1300.0   1250.0   ...      1650.0   1668.0   \n",
       "1      NaN      NaN      NaN      NaN      NaN   ...      2450.0   2500.0   \n",
       "2   1992.5   1980.0   1997.0   2100.0   2150.0   ...      2595.0   2605.0   \n",
       "3   1350.0   1350.0   1400.0   1400.0   1375.0   ...      1795.0   1765.0   \n",
       "4      NaN      NaN      NaN      NaN      NaN   ...      1611.0   1600.0   \n",
       "\n",
       "   2019-05  2019-06  2019-07  2019-08  2019-09  2019-10  2019-11  2019-12  \n",
       "0   1675.0   1683.0   1683.0   1660.0   1632.0   1600.0   1599.0   1595.0  \n",
       "1   2500.0   2550.0   2500.0   2545.0   2500.0   2450.0   2400.0   2375.0  \n",
       "2   2620.0   2628.0   2635.0   2650.0   2670.0   2650.0   2650.0   2650.0  \n",
       "3   1750.0   1750.0   1750.0   1705.0   1700.0   1640.0   1615.0   1600.0  \n",
       "4   1595.0   1585.0   1582.0   1575.0   1580.0   1575.0   1572.0   1582.0  \n",
       "\n",
       "[5 rows x 122 columns]"
      ]
     },
     "execution_count": 66,
     "metadata": {},
     "output_type": "execute_result"
    }
   ],
   "source": [
    "url = \"http://files.zillowstatic.com/research/public/Metro/Metro_MedianRentalPrice_2Bedroom.csv\"\n",
    "df = pd.read_csv(url)\n",
    "df.head()"
   ]
  },
  {
   "cell_type": "code",
   "execution_count": 67,
   "metadata": {},
   "outputs": [
    {
     "data": {
      "text/plain": [
       "dtype('float64')"
      ]
     },
     "execution_count": 67,
     "metadata": {},
     "output_type": "execute_result"
    }
   ],
   "source": [
    "df['2019-12'].dtype"
   ]
  },
  {
   "cell_type": "markdown",
   "metadata": {},
   "source": [
    "### b. Converting data types and filtering missing values\n",
    "\n",
    "Let's look at the `2010-08` column. First, plot a histogram of it."
   ]
  },
  {
   "cell_type": "code",
   "execution_count": 68,
   "metadata": {},
   "outputs": [
    {
     "data": {
      "text/plain": [
       "<matplotlib.axes._subplots.AxesSubplot at 0x7f7921ee3978>"
      ]
     },
     "execution_count": 68,
     "metadata": {},
     "output_type": "execute_result"
    },
    {
     "data": {
      "image/png": "[encoded data removed]",
      "text/plain": [
       "<Figure size 432x288 with 1 Axes>"
      ]
     },
     "metadata": {
      "needs_background": "light"
     },
     "output_type": "display_data"
    }
   ],
   "source": [
    "df['2010-08'].plot.hist()"
   ]
  },
  {
   "cell_type": "markdown",
   "metadata": {},
   "source": [
    "  Now, try to convert the column to integers. Does it work? If not, try converting the NaNs to \"indicator values\" first."
   ]
  },
  {
   "cell_type": "code",
   "execution_count": 69,
   "metadata": {
    "scrolled": true
   },
   "outputs": [
    {
     "data": {
      "text/plain": [
       "0      1250\n",
       "1        -1\n",
       "2      2150\n",
       "3      1375\n",
       "4        -1\n",
       "5      1362\n",
       "6        -1\n",
       "7      1585\n",
       "8        -1\n",
       "9       900\n",
       "10       -1\n",
       "11       -1\n",
       "12       -1\n",
       "13     1550\n",
       "14       -1\n",
       "15     1250\n",
       "16       -1\n",
       "17       -1\n",
       "18      800\n",
       "19      860\n",
       "20     1425\n",
       "21       -1\n",
       "22       -1\n",
       "23       -1\n",
       "24      800\n",
       "25       -1\n",
       "26       -1\n",
       "27      895\n",
       "28       -1\n",
       "29       -1\n",
       "       ... \n",
       "354      -1\n",
       "355      -1\n",
       "356      -1\n",
       "357      -1\n",
       "358      -1\n",
       "359      -1\n",
       "360      -1\n",
       "361      -1\n",
       "362      -1\n",
       "363      -1\n",
       "364      -1\n",
       "365      -1\n",
       "366      -1\n",
       "367      -1\n",
       "368      -1\n",
       "369      -1\n",
       "370      -1\n",
       "371      -1\n",
       "372      -1\n",
       "373      -1\n",
       "374      -1\n",
       "375      -1\n",
       "376      -1\n",
       "377      -1\n",
       "378      -1\n",
       "379      -1\n",
       "380      -1\n",
       "381      -1\n",
       "382      -1\n",
       "383      -1\n",
       "Name: 2010-08, Length: 384, dtype: int64"
      ]
     },
     "execution_count": 69,
     "metadata": {},
     "output_type": "execute_result"
    }
   ],
   "source": [
    "df = df.fillna(-1) # or df.fillna(-1, inplace=True)\n",
    "df['2010-08'].astype('int')"
   ]
  },
  {
   "cell_type": "markdown",
   "metadata": {},
   "source": [
    "Plot a histogram of the integer version of the column, making sure to filter out the missing values."
   ]
  },
  {
   "cell_type": "code",
   "execution_count": 71,
   "metadata": {},
   "outputs": [
    {
     "data": {
      "text/plain": [
       "<matplotlib.axes._subplots.AxesSubplot at 0x7f7921decb00>"
      ]
     },
     "execution_count": 71,
     "metadata": {},
     "output_type": "execute_result"
    },
    {
     "data": {
      "image/png": "[encoded data removed]",
      "text/plain": [
       "<Figure size 432x288 with 1 Axes>"
      ]
     },
     "metadata": {
      "needs_background": "light"
     },
     "output_type": "display_data"
    }
   ],
   "source": [
    "df.loc[df['2010-08'] != -1]['2010-08'].plot.hist()"
   ]
  },
  {
   "cell_type": "markdown",
   "metadata": {},
   "source": [
    "### c. Column naming\n",
    "\n",
    "Add a column to the DataFrame column named \"mean\".\n",
    "\n",
    "What happens if you try to refer to it as `df.mean`? Why?"
   ]
  },
  {
   "cell_type": "code",
   "execution_count": 73,
   "metadata": {
    "scrolled": true
   },
   "outputs": [],
   "source": [
    "df['mean'] = df['2010-08']"
   ]
  },
  {
   "cell_type": "code",
   "execution_count": 77,
   "metadata": {},
   "outputs": [
    {
     "data": {
      "text/plain": [
       "<bound method DataFrame.mean of                              RegionName  SizeRank  2010-01  2010-02  2010-03  \\\n",
       "0                         United States         0     -1.0     -1.0   1350.0   \n",
       "1                          New York, NY         1     -1.0     -1.0     -1.0   \n",
       "2    Los Angeles-Long Beach-Anaheim, CA         2     -1.0   1950.0   1900.0   \n",
       "3                           Chicago, IL         3     -1.0     -1.0   1345.0   \n",
       "4                 Dallas-Fort Worth, TX         4     -1.0     -1.0     -1.0   \n",
       "5                      Philadelphia, PA         5     -1.0   1225.0   1200.0   \n",
       "6                           Houston, TX         6     -1.0     -1.0     -1.0   \n",
       "7                        Washington, DC         7     -1.0   1600.0   1575.0   \n",
       "8             Miami-Fort Lauderdale, FL         8     -1.0     -1.0     -1.0   \n",
       "9                           Atlanta, GA         9     -1.0    900.0    950.0   \n",
       "10                           Boston, MA        10     -1.0     -1.0     -1.0   \n",
       "11                    San Francisco, CA        11     -1.0     -1.0     -1.0   \n",
       "12                          Detroit, MI        12     -1.0     -1.0     -1.0   \n",
       "13                        Riverside, CA        13     -1.0   2000.0   1825.0   \n",
       "14                          Phoenix, AZ        14     -1.0     -1.0     -1.0   \n",
       "15                          Seattle, WA        15     -1.0     -1.0   1250.0   \n",
       "16              Minneapolis-St Paul, MN        16     -1.0     -1.0     -1.0   \n",
       "17                        San Diego, CA        17     -1.0     -1.0     -1.0   \n",
       "18                        St. Louis, MO        18     -1.0     -1.0     -1.0   \n",
       "19                            Tampa, FL        19    795.0    850.0    875.0   \n",
       "20                        Baltimore, MD        20     -1.0     -1.0     -1.0   \n",
       "21                           Denver, CO        21     -1.0     -1.0     -1.0   \n",
       "22                       Pittsburgh, PA        22     -1.0     -1.0     -1.0   \n",
       "23                         Portland, OR        23     -1.0     -1.0     -1.0   \n",
       "24                        Charlotte, NC        24     -1.0    825.0    850.0   \n",
       "25                       Sacramento, CA        25     -1.0     -1.0     -1.0   \n",
       "26                      San Antonio, TX        26     -1.0     -1.0     -1.0   \n",
       "27                          Orlando, FL        27     -1.0     -1.0    850.0   \n",
       "28                       Cincinnati, OH        28     -1.0     -1.0     -1.0   \n",
       "29                        Cleveland, OH        29     -1.0     -1.0     -1.0   \n",
       "..                                  ...       ...      ...      ...      ...   \n",
       "354                         Shawnee, OK       354     -1.0     -1.0     -1.0   \n",
       "355                   Morehead City, NC       355     -1.0     -1.0     -1.0   \n",
       "356                        Marshall, TX       356     -1.0     -1.0     -1.0   \n",
       "357                      Charleston, IL       357     -1.0     -1.0     -1.0   \n",
       "358                          Athens, OH       358     -1.0     -1.0     -1.0   \n",
       "359                       Clearlake, CA       359     -1.0     -1.0     -1.0   \n",
       "360                      Hutchinson, KS       360     -1.0     -1.0     -1.0   \n",
       "361                          Hudson, NY       361     -1.0     -1.0     -1.0   \n",
       "362                     Walla Walla, WA       362     -1.0     -1.0     -1.0   \n",
       "363                     Warrensburg, MO       363     -1.0     -1.0     -1.0   \n",
       "364               Fort Leonard Wood, MO       364     -1.0     -1.0     -1.0   \n",
       "365                         Fernley, NV       365     -1.0     -1.0     -1.0   \n",
       "366                         Durango, CO       366     -1.0     -1.0     -1.0   \n",
       "367                         Rexburg, ID       367     -1.0     -1.0     -1.0   \n",
       "368                      New Castle, IN       368     -1.0     -1.0     -1.0   \n",
       "369                          Clovis, NM       369     -1.0     -1.0     -1.0   \n",
       "370                      Starkville, MS       370     -1.0     -1.0     -1.0   \n",
       "371                          Oxford, MS       371     -1.0     -1.0     -1.0   \n",
       "372                          Ruston, LA       372     -1.0     -1.0     -1.0   \n",
       "373                           Rolla, MO       373     -1.0     -1.0     -1.0   \n",
       "374                       Menomonie, WI       374     -1.0     -1.0     -1.0   \n",
       "375                      Lock Haven, PA       375     -1.0     -1.0     -1.0   \n",
       "376                       Pittsburg, KS       376     -1.0     -1.0     -1.0   \n",
       "377                         Laramie, WY       377     -1.0     -1.0     -1.0   \n",
       "378                   Junction City, KS       378     -1.0     -1.0     -1.0   \n",
       "379                           Butte, MT       379     -1.0     -1.0     -1.0   \n",
       "380                          Macomb, IL       380     -1.0     -1.0     -1.0   \n",
       "381                       Brookings, SD       381     -1.0     -1.0     -1.0   \n",
       "382                       Williston, ND       382     -1.0     -1.0     -1.0   \n",
       "383                        Portales, NM       383     -1.0     -1.0     -1.0   \n",
       "\n",
       "     2010-04  2010-05  2010-06  2010-07  2010-08   ...    2019-04  2019-05  \\\n",
       "0     1350.0   1350.0   1400.0   1300.0   1250.0   ...     1668.0   1675.0   \n",
       "1       -1.0     -1.0     -1.0     -1.0     -1.0   ...     2500.0   2500.0   \n",
       "2     1992.5   1980.0   1997.0   2100.0   2150.0   ...     2605.0   2620.0   \n",
       "3     1350.0   1350.0   1400.0   1400.0   1375.0   ...     1765.0   1750.0   \n",
       "4       -1.0     -1.0     -1.0     -1.0     -1.0   ...     1600.0   1595.0   \n",
       "5     1200.0   1250.0   1300.0   1350.0   1362.5   ...     1595.0   1600.0   \n",
       "6       -1.0     -1.0     -1.0     -1.0     -1.0   ...     1460.0   1473.5   \n",
       "7     1595.0   1550.0   1600.0   1597.0   1585.0   ...     2119.0   2155.0   \n",
       "8       -1.0     -1.0     -1.0     -1.0     -1.0   ...     2000.0   1999.0   \n",
       "9      950.0    950.0    950.0    900.0    900.0   ...     1600.0   1585.0   \n",
       "10      -1.0     -1.0     -1.0     -1.0     -1.0   ...     2500.0   2533.0   \n",
       "11      -1.0     -1.0     -1.0     -1.0     -1.0   ...     3215.0   3250.0   \n",
       "12      -1.0     -1.0     -1.0     -1.0     -1.0   ...     1200.0   1250.0   \n",
       "13    1650.0   1500.0   1500.0   1450.0   1550.0   ...     1795.0   1800.0   \n",
       "14      -1.0     -1.0     -1.0     -1.0     -1.0   ...     1353.0   1372.5   \n",
       "15    1250.0   1195.0   1195.0   1200.0   1250.0   ...     1940.0   1950.0   \n",
       "16      -1.0     -1.0     -1.0     -1.0     -1.0   ...     1550.0   1553.0   \n",
       "17      -1.0     -1.0     -1.0     -1.0     -1.0   ...     2306.0   2365.0   \n",
       "18      -1.0     -1.0     -1.0    795.0    800.0   ...     1018.0   1040.0   \n",
       "19     900.0    900.0    850.0    850.0    860.0   ...     1440.0   1465.0   \n",
       "20      -1.0   1385.0   1370.0   1325.0   1425.0   ...     1495.0   1499.0   \n",
       "21      -1.0     -1.0     -1.0     -1.0     -1.0   ...     1800.0   1815.0   \n",
       "22      -1.0     -1.0     -1.0     -1.0     -1.0   ...     1150.0   1149.0   \n",
       "23      -1.0     -1.0     -1.0     -1.0     -1.0   ...     1518.0   1550.0   \n",
       "24     850.0    850.0    850.0    850.0    800.0   ...     1420.0   1435.0   \n",
       "25      -1.0     -1.0     -1.0     -1.0     -1.0   ...     1635.0   1650.0   \n",
       "26      -1.0     -1.0     -1.0     -1.0     -1.0   ...     1221.0   1248.0   \n",
       "27     850.0    850.0    850.0    850.0    895.0   ...     1495.0   1500.0   \n",
       "28      -1.0     -1.0     -1.0     -1.0     -1.0   ...     1050.0   1055.0   \n",
       "29      -1.0     -1.0     -1.0     -1.0     -1.0   ...      975.0    967.5   \n",
       "..       ...      ...      ...      ...      ...   ...        ...      ...   \n",
       "354     -1.0     -1.0     -1.0     -1.0     -1.0   ...      612.5    595.0   \n",
       "355     -1.0     -1.0     -1.0     -1.0     -1.0   ...     1100.0   1150.0   \n",
       "356     -1.0     -1.0     -1.0     -1.0     -1.0   ...      800.0    800.0   \n",
       "357     -1.0     -1.0     -1.0     -1.0     -1.0   ...      500.0    500.0   \n",
       "358     -1.0     -1.0     -1.0     -1.0     -1.0   ...      825.0    825.0   \n",
       "359     -1.0     -1.0     -1.0     -1.0     -1.0   ...     1250.0   1125.0   \n",
       "360     -1.0     -1.0     -1.0     -1.0     -1.0   ...      649.5    595.0   \n",
       "361     -1.0     -1.0     -1.0     -1.0     -1.0   ...     1350.0   1400.0   \n",
       "362     -1.0     -1.0     -1.0     -1.0     -1.0   ...      962.5    985.0   \n",
       "363     -1.0     -1.0     -1.0     -1.0     -1.0   ...      575.0    600.0   \n",
       "364     -1.0     -1.0     -1.0     -1.0     -1.0   ...      650.0    650.0   \n",
       "365     -1.0     -1.0     -1.0     -1.0     -1.0   ...     1200.0   1200.0   \n",
       "366     -1.0     -1.0     -1.0     -1.0     -1.0   ...     1500.0   1650.0   \n",
       "367     -1.0     -1.0     -1.0     -1.0     -1.0   ...      750.0    750.0   \n",
       "368     -1.0     -1.0     -1.0     -1.0     -1.0   ...      662.5    650.0   \n",
       "369     -1.0     -1.0     -1.0     -1.0     -1.0   ...      737.5    700.0   \n",
       "370     -1.0     -1.0     -1.0     -1.0     -1.0   ...      825.0    800.0   \n",
       "371     -1.0     -1.0     -1.0     -1.0     -1.0   ...     1000.0   1000.0   \n",
       "372     -1.0     -1.0     -1.0     -1.0     -1.0   ...      700.0    650.0   \n",
       "373     -1.0     -1.0     -1.0     -1.0     -1.0   ...      640.0    615.0   \n",
       "374     -1.0     -1.0     -1.0     -1.0     -1.0   ...      610.0    650.0   \n",
       "375     -1.0     -1.0     -1.0     -1.0     -1.0   ...      775.0    750.0   \n",
       "376     -1.0     -1.0     -1.0     -1.0     -1.0   ...      550.0    550.0   \n",
       "377     -1.0     -1.0     -1.0     -1.0     -1.0   ...      744.0    743.0   \n",
       "378     -1.0     -1.0     -1.0     -1.0     -1.0   ...      700.0    700.0   \n",
       "379     -1.0     -1.0     -1.0     -1.0     -1.0   ...      737.5    750.0   \n",
       "380     -1.0     -1.0     -1.0     -1.0     -1.0   ...      672.5    650.0   \n",
       "381     -1.0     -1.0     -1.0     -1.0     -1.0   ...      750.0    750.0   \n",
       "382     -1.0     -1.0     -1.0     -1.0     -1.0   ...     1225.0   1215.0   \n",
       "383     -1.0     -1.0     -1.0     -1.0     -1.0   ...      625.0    612.5   \n",
       "\n",
       "     2019-06  2019-07  2019-08  2019-09  2019-10  2019-11  2019-12    mean  \n",
       "0     1683.0   1683.0   1660.0   1632.0   1600.0   1599.0   1595.0  1250.0  \n",
       "1     2550.0   2500.0   2545.0   2500.0   2450.0   2400.0   2375.0    -1.0  \n",
       "2     2628.0   2635.0   2650.0   2670.0   2650.0   2650.0   2650.0  2150.0  \n",
       "3     1750.0   1750.0   1705.0   1700.0   1640.0   1615.0   1600.0  1375.0  \n",
       "4     1585.0   1582.0   1575.0   1580.0   1575.0   1572.0   1582.0    -1.0  \n",
       "5     1600.0   1600.0   1600.0   1590.0   1595.0   1594.5   1580.0  1362.5  \n",
       "6     1473.0   1469.0   1468.5   1455.0   1454.5   1447.0   1435.0    -1.0  \n",
       "7     2150.0   2145.0   2100.0   2092.0   2094.0   2057.0   2085.0  1585.0  \n",
       "8     1950.0   1965.0   1985.0   1950.0   1945.0   1920.0   1912.0    -1.0  \n",
       "9     1583.0   1564.0   1562.0   1570.0   1565.0   1585.0   1571.0   900.0  \n",
       "10    2550.0   2550.0   2500.0   2500.0   2500.0   2500.0   2575.0    -1.0  \n",
       "11    3400.0   3430.0   3400.0   3350.0   3228.5   3200.0   3273.5    -1.0  \n",
       "12    1275.0   1294.0   1250.0   1250.0   1249.5   1250.0   1237.0    -1.0  \n",
       "13    1821.5   1800.0   1800.0   1801.5   1795.0   1779.0   1790.0  1550.0  \n",
       "14    1365.0   1375.0   1357.0   1375.0   1385.0   1395.0   1400.0    -1.0  \n",
       "15    1945.0   1919.5   1900.0   1850.0   1867.0   1869.0   1875.0  1250.0  \n",
       "16    1550.0   1525.0   1501.0   1499.0   1494.5   1502.5   1535.0    -1.0  \n",
       "17    2350.0   2350.0   2360.0   2350.0   2325.5   2345.0   2350.0    -1.0  \n",
       "18    1050.0   1031.0   1000.0    995.0    995.0    975.0   1000.0   800.0  \n",
       "19    1450.0   1414.0   1433.0   1403.0   1419.0   1403.0   1400.0   860.0  \n",
       "20    1495.0   1469.5   1476.0   1485.0   1470.0   1469.0   1453.0  1425.0  \n",
       "21    1835.0   1825.0   1800.0   1800.0   1799.0   1800.0   1800.0    -1.0  \n",
       "22    1118.0   1095.0   1075.0   1050.0   1035.0   1075.0   1100.0    -1.0  \n",
       "23    1554.0   1578.0   1595.0   1570.0   1533.5   1528.0   1520.0    -1.0  \n",
       "24    1426.0   1440.0   1426.0   1439.0   1430.0   1425.0   1425.0   800.0  \n",
       "25    1658.5   1688.0   1675.0   1681.0   1650.0   1657.0   1650.0    -1.0  \n",
       "26    1268.0   1255.5   1225.5   1235.0   1227.0   1225.0   1224.0    -1.0  \n",
       "27    1530.0   1558.0   1551.0   1549.0   1540.0   1509.0   1525.0   895.0  \n",
       "28    1095.0   1090.0   1095.0   1094.5   1062.5   1100.0   1125.0    -1.0  \n",
       "29     950.0    945.0    940.0    925.0    920.0    909.5    925.0    -1.0  \n",
       "..       ...      ...      ...      ...      ...      ...      ...     ...  \n",
       "354    635.0    600.0    640.0    650.0    650.0    625.0    650.0    -1.0  \n",
       "355   1125.0   1020.0   1102.5   1077.5   1077.5   1100.0   1100.0    -1.0  \n",
       "356    750.0    700.0    700.0    700.0    700.0    700.0    700.0    -1.0  \n",
       "357    500.0    495.0    490.0    485.0    510.0    510.0    500.0    -1.0  \n",
       "358    825.0    800.0    750.0    700.0    600.0    635.0    650.0    -1.0  \n",
       "359   1200.0   1200.0   1195.0   1250.0   1200.0   1200.0   1200.0    -1.0  \n",
       "360    597.5    599.5    612.5    625.0    612.5    612.5    645.0    -1.0  \n",
       "361   1400.0   1450.0   1400.0   1300.0   1350.0   1395.0   1300.0    -1.0  \n",
       "362    990.0    950.0    980.0    995.0   1045.0   1025.0    997.5    -1.0  \n",
       "363    654.5    575.0    575.0    575.0    600.0    610.0    625.0    -1.0  \n",
       "364    695.0    650.0    650.0    650.0    650.0    650.0    695.0    -1.0  \n",
       "365   1200.0   1250.0   1237.5   1250.0   1250.0   1200.0   1200.0    -1.0  \n",
       "366   1645.0   1475.0   1500.0   1595.0   1521.0   1500.0   1486.0    -1.0  \n",
       "367    795.0    795.0    832.0    895.0    841.0    850.0    816.0    -1.0  \n",
       "368    639.0    642.0    649.0    649.0    689.0    689.0    650.0    -1.0  \n",
       "369    700.0    700.0    725.0    750.0    750.0    750.0    750.0    -1.0  \n",
       "370    830.0    800.0    795.0    797.5    849.0    900.0    900.0    -1.0  \n",
       "371   1063.5   1063.5   1058.0    995.0   1058.0   1059.0   1059.0    -1.0  \n",
       "372    650.0    700.0    700.0    675.0    700.0    700.0    700.0    -1.0  \n",
       "373    625.0    700.0    612.5    595.0    590.0    557.5    550.0    -1.0  \n",
       "374    650.0    650.0    650.0    650.0    670.0    650.0    650.0    -1.0  \n",
       "375    750.0    780.0    775.0    775.0    800.0    750.0    792.5    -1.0  \n",
       "376    550.0    550.0    550.0    575.0    595.0    600.0    550.0    -1.0  \n",
       "377    750.0    730.0    730.0    775.5    730.0    785.0    785.0    -1.0  \n",
       "378    700.0    700.0    700.0    700.0    730.0    730.0    700.0    -1.0  \n",
       "379    725.0    750.0    775.0    775.0    750.0    700.0    750.0    -1.0  \n",
       "380    690.0    650.0    650.0    650.0    650.0    650.0    662.5    -1.0  \n",
       "381    750.0    750.0    750.0    847.5    785.0    797.5    725.0    -1.0  \n",
       "382   1225.0   1235.0   1257.0   1210.0   1210.0   1201.0   1245.0    -1.0  \n",
       "383    625.0    625.0    612.5    625.0    647.5    625.0    600.0    -1.0  \n",
       "\n",
       "[384 rows x 123 columns]>"
      ]
     },
     "execution_count": 77,
     "metadata": {},
     "output_type": "execute_result"
    }
   ],
   "source": [
    "df.mean"
   ]
  },
  {
   "cell_type": "code",
   "execution_count": null,
   "metadata": {},
   "outputs": [],
   "source": []
  }
 ],
 "metadata": {
  "kernelspec": {
   "display_name": "Python 3",
   "language": "python",
   "name": "python3"
  },
  "language_info": {
   "codemirror_mode": {
    "name": "ipython",
    "version": 3
   },
   "file_extension": ".py",
   "mimetype": "text/x-python",
   "name": "python",
   "nbconvert_exporter": "python",
   "pygments_lexer": "ipython3",
   "version": "3.6.9"
  }
 },
 "nbformat": 4,
 "nbformat_minor": 4
}
