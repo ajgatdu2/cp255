{
 "cells": [
  {
   "cell_type": "markdown",
   "metadata": {},
   "source": [
    "# Sampling and simulation\n",
    "\n",
    "This demo focuses on approaches from statistics and machine learning that you can easily take advantage of without learning any new math. Most of the methodologies covered in lecture are pretty accessible too, but it's hard to demo everything! Here are some additional resources:\n",
    "\n",
    "- Online textbook for [Data 8](https://www.inferentialthinking.com/) (chapter 9 onward)\n",
    "- Detailed introduction to OLS regression, in a [notebook](https://github.com/waddell/CP255/blob/master/13-regression/statistical-modeling.ipynb) (from CP 255 last year)\n",
    "- Examples from the Statsmodels library: https://www.statsmodels.org/stable/examples/\n",
    "- Examples from the Scikit-Learn library: https://scikit-learn.org/"
   ]
  },
  {
   "cell_type": "markdown",
   "metadata": {},
   "source": [
    "## 1. Random sampling\n",
    "\n",
    "Often we want to inspect or validate a dataset, but don't have the ability to look in detail at each data point. Random sampling gives us a subset of the data that's more likely to be representative than, for example, looking at the first few lines of the dataset. \n",
    "\n",
    "Intuitively, this makes sense: Usually the top of the dataset includes observations that are all from the same place, or all from the same point in time. And statistics [tells us](https://en.wikipedia.org/wiki/Sampling_(statistics)) that random samples are even more powerful than they seem. A random sample of several dozen data points will give you a good sense of the characteristics of the full dataset, regardless of how large it is. (If you're interested in rare outcomes, you will need a larger sample. As a rule of thumb, increase the sample size until you get a few dozen of whatever kind of data point you're interested in.)\n",
    "\n",
    "In **Python**, NumPy has dozens of random sampling and random number generating functions:   \n",
    "https://docs.scipy.org/doc/numpy-1.15.0/reference/routines.random.html"
   ]
  },
  {
   "cell_type": "code",
   "execution_count": 1,
   "metadata": {},
   "outputs": [],
   "source": [
    "import numpy as np"
   ]
  },
  {
   "cell_type": "code",
   "execution_count": 2,
   "metadata": {},
   "outputs": [
    {
     "data": {
      "text/plain": [
       "0.4888382041882453"
      ]
     },
     "execution_count": 2,
     "metadata": {},
     "output_type": "execute_result"
    }
   ],
   "source": [
    "np.random.random()  # random float between 0 and 1"
   ]
  },
  {
   "cell_type": "code",
   "execution_count": 3,
   "metadata": {},
   "outputs": [
    {
     "data": {
      "text/plain": [
       "array([23, 65, 29, 71, 93, 87, 24, 53, 89, 99])"
      ]
     },
     "execution_count": 3,
     "metadata": {},
     "output_type": "execute_result"
    }
   ],
   "source": [
    "np.random.randint(low=1, high=100, size=10)"
   ]
  },
  {
   "cell_type": "markdown",
   "metadata": {},
   "source": [
    "### How does this work?\n",
    "\n",
    "When computers generate random numbers, they're really just \"pseudo-random\". The algorithm begins with an unlikely-to-be-repeated \"seed\" (like the current time in microseconds), and applies permutations so that the resulting sequence is effectively arbitrary. Read more [here](https://en.wikipedia.org/wiki/Random_number_generation)."
   ]
  },
  {
   "cell_type": "markdown",
   "metadata": {},
   "source": [
    "### Random sampling in Pandas\n",
    "\n",
    "Conveniently, Pandas can directly give you a random sample of a DataFrame.\n",
    "\n",
    "https://pandas.pydata.org/pandas-docs/version/0.24.2/reference/api/pandas.DataFrame.sample.html"
   ]
  },
  {
   "cell_type": "code",
   "execution_count": 4,
   "metadata": {},
   "outputs": [],
   "source": [
    "import pandas as pd\n",
    "import matplotlib.pyplot as plt"
   ]
  },
  {
   "cell_type": "code",
   "execution_count": 5,
   "metadata": {},
   "outputs": [],
   "source": [
    "# Download Zillow rent index data: https://www.zillow.com/research/data/\n",
    "url = \"http://files.zillowstatic.com/research/public/City/City_Zri_AllHomesPlusMultifamily_Summary.csv\"\n",
    "rents = pd.read_csv(url)"
   ]
  },
  {
   "cell_type": "code",
   "execution_count": 6,
   "metadata": {},
   "outputs": [
    {
     "data": {
      "text/html": [
       "<div>\n",
       "<style scoped>\n",
       "    .dataframe tbody tr th:only-of-type {\n",
       "        vertical-align: middle;\n",
       "    }\n",
       "\n",
       "    .dataframe tbody tr th {\n",
       "        vertical-align: top;\n",
       "    }\n",
       "\n",
       "    .dataframe thead th {\n",
       "        text-align: right;\n",
       "    }\n",
       "</style>\n",
       "<table border=\"1\" class=\"dataframe\">\n",
       "  <thead>\n",
       "    <tr style=\"text-align: right;\">\n",
       "      <th></th>\n",
       "      <th>Date</th>\n",
       "      <th>RegionName</th>\n",
       "      <th>State</th>\n",
       "      <th>Metro</th>\n",
       "      <th>County</th>\n",
       "      <th>SizeRank</th>\n",
       "      <th>Zri</th>\n",
       "      <th>MoM</th>\n",
       "      <th>QoQ</th>\n",
       "      <th>YoY</th>\n",
       "      <th>ZriRecordCnt</th>\n",
       "    </tr>\n",
       "  </thead>\n",
       "  <tbody>\n",
       "    <tr>\n",
       "      <th>0</th>\n",
       "      <td>2020-01-31</td>\n",
       "      <td>New York</td>\n",
       "      <td>NY</td>\n",
       "      <td>New York-Newark-Jersey City</td>\n",
       "      <td>Queens County</td>\n",
       "      <td>0</td>\n",
       "      <td>2390</td>\n",
       "      <td>-0.0022</td>\n",
       "      <td>0.0065</td>\n",
       "      <td>0.0297</td>\n",
       "      <td>2099594</td>\n",
       "    </tr>\n",
       "    <tr>\n",
       "      <th>1</th>\n",
       "      <td>2020-01-31</td>\n",
       "      <td>Los Angeles</td>\n",
       "      <td>CA</td>\n",
       "      <td>Los Angeles-Long Beach-Anaheim</td>\n",
       "      <td>Los Angeles County</td>\n",
       "      <td>1</td>\n",
       "      <td>2822</td>\n",
       "      <td>-0.0038</td>\n",
       "      <td>0.0030</td>\n",
       "      <td>0.0258</td>\n",
       "      <td>824197</td>\n",
       "    </tr>\n",
       "    <tr>\n",
       "      <th>2</th>\n",
       "      <td>2020-01-31</td>\n",
       "      <td>Houston</td>\n",
       "      <td>TX</td>\n",
       "      <td>Houston-The Woodlands-Sugar Land</td>\n",
       "      <td>Harris County</td>\n",
       "      <td>2</td>\n",
       "      <td>1398</td>\n",
       "      <td>0.0004</td>\n",
       "      <td>0.0154</td>\n",
       "      <td>0.0110</td>\n",
       "      <td>898895</td>\n",
       "    </tr>\n",
       "    <tr>\n",
       "      <th>3</th>\n",
       "      <td>2020-01-31</td>\n",
       "      <td>Chicago</td>\n",
       "      <td>IL</td>\n",
       "      <td>Chicago-Naperville-Elgin</td>\n",
       "      <td>Cook County</td>\n",
       "      <td>3</td>\n",
       "      <td>1657</td>\n",
       "      <td>-0.0217</td>\n",
       "      <td>-0.0236</td>\n",
       "      <td>0.0017</td>\n",
       "      <td>807425</td>\n",
       "    </tr>\n",
       "    <tr>\n",
       "      <th>4</th>\n",
       "      <td>2020-01-31</td>\n",
       "      <td>San Antonio</td>\n",
       "      <td>TX</td>\n",
       "      <td>San Antonio-New Braunfels</td>\n",
       "      <td>Bexar County</td>\n",
       "      <td>4</td>\n",
       "      <td>1207</td>\n",
       "      <td>0.0068</td>\n",
       "      <td>0.0033</td>\n",
       "      <td>0.0117</td>\n",
       "      <td>518917</td>\n",
       "    </tr>\n",
       "  </tbody>\n",
       "</table>\n",
       "</div>"
      ],
      "text/plain": [
       "         Date   RegionName State                             Metro  \\\n",
       "0  2020-01-31     New York    NY       New York-Newark-Jersey City   \n",
       "1  2020-01-31  Los Angeles    CA    Los Angeles-Long Beach-Anaheim   \n",
       "2  2020-01-31      Houston    TX  Houston-The Woodlands-Sugar Land   \n",
       "3  2020-01-31      Chicago    IL          Chicago-Naperville-Elgin   \n",
       "4  2020-01-31  San Antonio    TX         San Antonio-New Braunfels   \n",
       "\n",
       "               County  SizeRank   Zri     MoM     QoQ     YoY  ZriRecordCnt  \n",
       "0       Queens County         0  2390 -0.0022  0.0065  0.0297       2099594  \n",
       "1  Los Angeles County         1  2822 -0.0038  0.0030  0.0258        824197  \n",
       "2       Harris County         2  1398  0.0004  0.0154  0.0110        898895  \n",
       "3         Cook County         3  1657 -0.0217 -0.0236  0.0017        807425  \n",
       "4        Bexar County         4  1207  0.0068  0.0033  0.0117        518917  "
      ]
     },
     "execution_count": 6,
     "metadata": {},
     "output_type": "execute_result"
    }
   ],
   "source": [
    "rents.head()"
   ]
  },
  {
   "cell_type": "code",
   "execution_count": 7,
   "metadata": {},
   "outputs": [
    {
     "data": {
      "text/html": [
       "<div>\n",
       "<style scoped>\n",
       "    .dataframe tbody tr th:only-of-type {\n",
       "        vertical-align: middle;\n",
       "    }\n",
       "\n",
       "    .dataframe tbody tr th {\n",
       "        vertical-align: top;\n",
       "    }\n",
       "\n",
       "    .dataframe thead th {\n",
       "        text-align: right;\n",
       "    }\n",
       "</style>\n",
       "<table border=\"1\" class=\"dataframe\">\n",
       "  <thead>\n",
       "    <tr style=\"text-align: right;\">\n",
       "      <th></th>\n",
       "      <th>Date</th>\n",
       "      <th>RegionName</th>\n",
       "      <th>State</th>\n",
       "      <th>Metro</th>\n",
       "      <th>County</th>\n",
       "      <th>SizeRank</th>\n",
       "      <th>Zri</th>\n",
       "      <th>MoM</th>\n",
       "      <th>QoQ</th>\n",
       "      <th>YoY</th>\n",
       "      <th>ZriRecordCnt</th>\n",
       "    </tr>\n",
       "  </thead>\n",
       "  <tbody>\n",
       "    <tr>\n",
       "      <th>511</th>\n",
       "      <td>2020-01-31</td>\n",
       "      <td>Ellicott City</td>\n",
       "      <td>MD</td>\n",
       "      <td>Baltimore-Columbia-Towson</td>\n",
       "      <td>Howard County</td>\n",
       "      <td>511</td>\n",
       "      <td>1841</td>\n",
       "      <td>-0.0043</td>\n",
       "      <td>-0.0175</td>\n",
       "      <td>-0.0001</td>\n",
       "      <td>30431</td>\n",
       "    </tr>\n",
       "    <tr>\n",
       "      <th>6659</th>\n",
       "      <td>2020-01-31</td>\n",
       "      <td>Alturas</td>\n",
       "      <td>CA</td>\n",
       "      <td>NaN</td>\n",
       "      <td>Modoc County</td>\n",
       "      <td>6659</td>\n",
       "      <td>1705</td>\n",
       "      <td>0.0105</td>\n",
       "      <td>0.0357</td>\n",
       "      <td>0.1069</td>\n",
       "      <td>1922</td>\n",
       "    </tr>\n",
       "    <tr>\n",
       "      <th>3036</th>\n",
       "      <td>2020-01-31</td>\n",
       "      <td>Hot Springs Village</td>\n",
       "      <td>AR</td>\n",
       "      <td>Little Rock-North Little Rock-Conway</td>\n",
       "      <td>Saline County</td>\n",
       "      <td>3036</td>\n",
       "      <td>945</td>\n",
       "      <td>0.0273</td>\n",
       "      <td>0.0222</td>\n",
       "      <td>0.0013</td>\n",
       "      <td>10985</td>\n",
       "    </tr>\n",
       "    <tr>\n",
       "      <th>184</th>\n",
       "      <td>2020-01-31</td>\n",
       "      <td>Peoria</td>\n",
       "      <td>AZ</td>\n",
       "      <td>Phoenix-Mesa-Scottsdale</td>\n",
       "      <td>Maricopa County</td>\n",
       "      <td>184</td>\n",
       "      <td>1391</td>\n",
       "      <td>0.0122</td>\n",
       "      <td>0.0208</td>\n",
       "      <td>0.0750</td>\n",
       "      <td>71276</td>\n",
       "    </tr>\n",
       "    <tr>\n",
       "      <th>3620</th>\n",
       "      <td>2020-01-31</td>\n",
       "      <td>Hertford</td>\n",
       "      <td>NC</td>\n",
       "      <td>Elizabeth City</td>\n",
       "      <td>Perquimans County</td>\n",
       "      <td>3620</td>\n",
       "      <td>1123</td>\n",
       "      <td>0.0036</td>\n",
       "      <td>0.0099</td>\n",
       "      <td>-0.0340</td>\n",
       "      <td>3918</td>\n",
       "    </tr>\n",
       "  </tbody>\n",
       "</table>\n",
       "</div>"
      ],
      "text/plain": [
       "            Date           RegionName State  \\\n",
       "511   2020-01-31        Ellicott City    MD   \n",
       "6659  2020-01-31              Alturas    CA   \n",
       "3036  2020-01-31  Hot Springs Village    AR   \n",
       "184   2020-01-31               Peoria    AZ   \n",
       "3620  2020-01-31             Hertford    NC   \n",
       "\n",
       "                                     Metro             County  SizeRank   Zri  \\\n",
       "511              Baltimore-Columbia-Towson      Howard County       511  1841   \n",
       "6659                                   NaN       Modoc County      6659  1705   \n",
       "3036  Little Rock-North Little Rock-Conway      Saline County      3036   945   \n",
       "184                Phoenix-Mesa-Scottsdale    Maricopa County       184  1391   \n",
       "3620                        Elizabeth City  Perquimans County      3620  1123   \n",
       "\n",
       "         MoM     QoQ     YoY  ZriRecordCnt  \n",
       "511  -0.0043 -0.0175 -0.0001         30431  \n",
       "6659  0.0105  0.0357  0.1069          1922  \n",
       "3036  0.0273  0.0222  0.0013         10985  \n",
       "184   0.0122  0.0208  0.0750         71276  \n",
       "3620  0.0036  0.0099 -0.0340          3918  "
      ]
     },
     "execution_count": 7,
     "metadata": {},
     "output_type": "execute_result"
    }
   ],
   "source": [
    "rents.sample(n=5)"
   ]
  },
  {
   "cell_type": "markdown",
   "metadata": {},
   "source": [
    "### Other applications\n",
    "\n",
    "You can also layer random sampling on top of other statistical procedures, for example to perform **cross-validation**. This is when you divide your data into two chunks, a \"training\" set and a \"testing\" set. Use one set to fit a statistical model, and the other to check how well it performs with data it hasn't seen before, to better mimic real-world applications. Read more [here](https://en.wikipedia.org/wiki/Cross-validation_(statistics)). "
   ]
  },
  {
   "cell_type": "markdown",
   "metadata": {},
   "source": [
    "### Exercise\n",
    "\n",
    "Generate a list of 50 random integers between 0 and 100. \n",
    "\n",
    "Plot a histogram of them -- if you have a list from NumPy, you can use `pd.Series(my_list).hist()`.\n",
    "\n",
    "How much does the distribution change when you re-run the code? How much does it change if you increase the size of the sample?"
   ]
  },
  {
   "cell_type": "code",
   "execution_count": null,
   "metadata": {},
   "outputs": [],
   "source": []
  },
  {
   "cell_type": "code",
   "execution_count": null,
   "metadata": {},
   "outputs": [],
   "source": []
  },
  {
   "cell_type": "code",
   "execution_count": null,
   "metadata": {},
   "outputs": [],
   "source": []
  },
  {
   "cell_type": "markdown",
   "metadata": {},
   "source": [
    "## 2. Monte Carlo simulation\n",
    "\n",
    "Computers are really good at generating random numbers, and really good at doing the same thing many times. If you're studying some kind of real-world process that involves randomness (like people's behavioral choices, or the weather, or epidemics), you can write code to simulate the process many, many times, to get a sense of what the aggregate outcomes will look like. This approach is called [Monte Carlo simulation](https://en.wikipedia.org/wiki/Monte_Carlo_method#Applications), and it's usually much easier than doing the same thing analytically. For example, this is often used in travel demand modeling or land use modeling.\n",
    "\n",
    "### Example\n",
    "\n",
    "We are building a 50-unit apartment building. Each unit has a 50% chance of being rented by a student, and a 50% change of being rented by someone else. Students have an 80% chance of owning a bicycle and a 10% chance of owning a car. Non-students have a 60% chance of owning a bicycle and a 75% chance of owning a car. What's the range of car and bicycle parking demand that we're likely to see?"
   ]
  },
  {
   "cell_type": "code",
   "execution_count": 8,
   "metadata": {},
   "outputs": [],
   "source": [
    "def simulate():\n",
    "    \"\"\"\n",
    "    Simulate the number of bikes and cars owned by residents of the building.\n",
    "    \n",
    "    \"\"\"\n",
    "    bike_count = 0\n",
    "    car_count = 0\n",
    "    \n",
    "    for i in range(50):  # do this once for each resident\n",
    "       \n",
    "        if (np.random.random() < 0.5):  # student\n",
    "\n",
    "            if (np.random.random() < 0.8):\n",
    "                bike_count = bike_count + 1\n",
    "\n",
    "            if (np.random.random() < 0.1):\n",
    "                car_count = car_count + 1\n",
    "\n",
    "        else:\n",
    "\n",
    "            if (np.random.random() < 0.6):\n",
    "                bike_count = bike_count + 1\n",
    "\n",
    "            if (np.random.random() < 0.75):\n",
    "                car_count = car_count + 1\n",
    "\n",
    "    return bike_count, car_count"
   ]
  },
  {
   "cell_type": "code",
   "execution_count": 9,
   "metadata": {},
   "outputs": [
    {
     "data": {
      "text/plain": [
       "(42, 17)"
      ]
     },
     "execution_count": 9,
     "metadata": {},
     "output_type": "execute_result"
    }
   ],
   "source": [
    "simulate()"
   ]
  },
  {
   "cell_type": "code",
   "execution_count": 10,
   "metadata": {},
   "outputs": [
    {
     "data": {
      "text/plain": [
       "<matplotlib.axes._subplots.AxesSubplot at 0x113af74d0>"
      ]
     },
     "execution_count": 10,
     "metadata": {},
     "output_type": "execute_result"
    },
    {
     "data": {
      "image/png": "[encoded data removed]",
      "text/plain": [
       "<Figure size 432x288 with 1 Axes>"
      ]
     },
     "metadata": {
      "needs_background": "light"
     },
     "output_type": "display_data"
    }
   ],
   "source": [
    "# run the simulation 500 times and plot the range of outcomes\n",
    "\n",
    "bike_counts = []\n",
    "car_counts = []\n",
    "\n",
    "for i in range(500):\n",
    "    a, b = simulate()\n",
    "    bike_counts.append(a)\n",
    "    car_counts.append(b)\n",
    "\n",
    "pd.Series(bike_counts).hist()\n",
    "pd.Series(car_counts).hist()"
   ]
  },
  {
   "cell_type": "markdown",
   "metadata": {},
   "source": [
    "### Exercise\n",
    "\n",
    "Simulate flipping a coin, and plot a histogram of the results.\n",
    "\n",
    "If you flipped a real coin 100 times, how far from 50 would the number of heads or tails need to be before you got suspicious?"
   ]
  },
  {
   "cell_type": "code",
   "execution_count": null,
   "metadata": {},
   "outputs": [],
   "source": []
  },
  {
   "cell_type": "code",
   "execution_count": null,
   "metadata": {},
   "outputs": [],
   "source": []
  },
  {
   "cell_type": "code",
   "execution_count": null,
   "metadata": {},
   "outputs": [],
   "source": []
  }
 ],
 "metadata": {
  "kernelspec": {
   "display_name": "Python 3",
   "language": "python",
   "name": "python3"
  },
  "language_info": {
   "codemirror_mode": {
    "name": "ipython",
    "version": 3
   },
   "file_extension": ".py",
   "mimetype": "text/x-python",
   "name": "python",
   "nbconvert_exporter": "python",
   "pygments_lexer": "ipython3",
   "version": "3.7.6"
  }
 },
 "nbformat": 4,
 "nbformat_minor": 4
}
