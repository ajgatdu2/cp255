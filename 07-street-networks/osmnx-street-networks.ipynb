{
 "cells": [
  {
   "cell_type": "markdown",
   "metadata": {},
   "source": [
    "# Using OSMnx to work with street networks\n",
    "\n",
    "OSMnx is a Python library that lets you download spatial geometries and construct, project, and visualize street networks from OpenStreetMap's API.  It makes heavy use of the NetworkX library for network analysis.\n",
    "\n",
    "https://www.openstreetmap.org  \n",
    "\n",
    "OSMnx documentation: https://osmnx.readthedocs.io/en/stable/index.html  \n",
    "OSMnx examples: https://github.com/gboeing/osmnx-examples/tree/master/notebooks\n",
    "\n",
    "NetworkX documentation: https://networkx.github.io/documentation/stable/\n",
    "\n",
    "OSMnx and NetworkX are the best place to start for these tasks. But it case the performance is too slow for your use cases, there's another set of libraries that's optimized for fast distance and accessibility calculations over long distances:\n",
    "\n",
    "Pandana: http://udst.github.io/pandana/  \n",
    "UrbanAccess: https://udst.github.io/urbanaccess/index.html (for GTFS transit data)  \n",
    "OSMNet: https://udst.github.io/osmnet/index.html"
   ]
  },
  {
   "cell_type": "code",
   "execution_count": null,
   "metadata": {},
   "outputs": [],
   "source": [
    "%%capture\n",
    "!pip install osmnx"
   ]
  },
  {
   "cell_type": "code",
   "execution_count": null,
   "metadata": {},
   "outputs": [],
   "source": [
    "# cell 1\n",
    "\n",
    "import geopandas as gpd\n",
    "import pandas as pd\n",
    "import numpy as np\n",
    "import matplotlib.cm as cm\n",
    "import networkx as nx\n",
    "import osmnx\n",
    "osmnx.config(log_file=True, log_console=True, use_cache=True)"
   ]
  },
  {
   "cell_type": "markdown",
   "metadata": {},
   "source": [
    "## 1. Download place boundaries from OpenStreetMap\n",
    "\n",
    "OSMnx lets you download spatial \"place boundary\" geometries from OpenStreetMap, save them, project them, and plot them. For a more in-depth demonstration, see [this notebook](https://github.com/gboeing/osmnx-examples/blob/master/notebooks/02-example-osm-to-shapefile.ipynb).\n",
    "\n",
    "OSMnx [gdf_from_place()](https://osmnx.readthedocs.io/en/stable/osmnx.html#osmnx.core.gdf_from_place)"
   ]
  },
  {
   "cell_type": "code",
   "execution_count": null,
   "metadata": {},
   "outputs": [],
   "source": [
    "# cell 2\n",
    "\n",
    "city = osmnx.gdf_from_place('Manhattan, New York, New York, USA')\n",
    "type(city)"
   ]
  },
  {
   "cell_type": "code",
   "execution_count": null,
   "metadata": {},
   "outputs": [],
   "source": [
    "# cell 3\n",
    "\n",
    "city.head()"
   ]
  },
  {
   "cell_type": "markdown",
   "metadata": {},
   "source": [
    "### Projecting and plotting\n",
    "\n",
    "You can plot this using any of the standard tools, but OSMNx also has some helper functions to create common map types:\n",
    "\n",
    "OSMnx [project_gdf()](https://osmnx.readthedocs.io/en/stable/osmnx.html#osmnx.projection.project_gdf) -- uses the optimal local UTM projection by default  \n",
    "OSMnx [plot_shape()](https://osmnx.readthedocs.io/en/stable/osmnx.html#osmnx.plot.plot_shape)"
   ]
  },
  {
   "cell_type": "code",
   "execution_count": null,
   "metadata": {},
   "outputs": [],
   "source": [
    "# cell 4\n",
    "\n",
    "osmnx.project_gdf(city).head()"
   ]
  },
  {
   "cell_type": "code",
   "execution_count": null,
   "metadata": {
    "scrolled": true
   },
   "outputs": [],
   "source": [
    "# cell 5\n",
    "\n",
    "fig, ax = osmnx.plot_shape(osmnx.project_gdf(city))\n",
    "fig.show()"
   ]
  },
  {
   "cell_type": "markdown",
   "metadata": {},
   "source": [
    "### Multiple places at once\n",
    "\n",
    "OSMnx [gdf_from_places()](https://osmnx.readthedocs.io/en/stable/osmnx.html#osmnx.core.gdf_from_places)"
   ]
  },
  {
   "cell_type": "code",
   "execution_count": null,
   "metadata": {},
   "outputs": [],
   "source": [
    "# cell 6\n",
    "\n",
    "place_names = ['Berkeley, California, USA', \n",
    "               'Oakland, California, USA',\n",
    "               'Piedmont, California, USA',\n",
    "               'Emeryville, California, USA',\n",
    "               'Alameda, Alameda County, CA, USA']\n",
    "\n",
    "east_bay = osmnx.gdf_from_places(place_names)\n",
    "\n",
    "fig, ax = osmnx.plot_shape(osmnx.project_gdf(east_bay))\n",
    "fig.show()"
   ]
  },
  {
   "cell_type": "markdown",
   "metadata": {},
   "source": [
    "### Exercise\n",
    "\n",
    "Try downloading some other place outlines!"
   ]
  },
  {
   "cell_type": "code",
   "execution_count": null,
   "metadata": {},
   "outputs": [],
   "source": []
  },
  {
   "cell_type": "code",
   "execution_count": null,
   "metadata": {},
   "outputs": [],
   "source": []
  },
  {
   "cell_type": "code",
   "execution_count": null,
   "metadata": {},
   "outputs": [],
   "source": []
  },
  {
   "cell_type": "markdown",
   "metadata": {},
   "source": [
    "## 2. Download and process street networks from OpenStreetMap\n",
    "\n",
    "OSMnx lets you download street network data and build topologically-corrected street networks, project and plot the networks, and save the street network as SVGs, GraphML files, or shapefiles for later use. The street networks are directed and preserve one-way directionality. For a more in-depth demonstration of creating street networks, see [this notebook](https://github.com/gboeing/osmnx-examples/blob/master/notebooks/03-example-osm-place-network.ipynb).\n",
    "\n",
    "Note that a **graph** is the math/computer science term for the data structure you probably think of as a \"network\": a set of vertices/nodes/points that are connected by edges/links/lines. More [here](https://en.wikipedia.org/wiki/Graph_(abstract_data_type)). This can be confusing because data visualizations are often called \"graphs\" as well; it seems like this originally referred only to network diagrams but has now expanded to include more things. Consider calling your data visualizations \"charts\" instead!\n",
    "\n",
    "You can download a street network by providing OSMnx any of the following:\n",
    "  - a bounding box\n",
    "  - a lat-lon point plus a distance\n",
    "  - an address plus a distance\n",
    "  - a place name or list of place names (to automatically geocode and get the boundary of)\n",
    "  - a polygon of the desired street network's boundaries\n",
    "\n",
    "You can also specify several different network types:\n",
    "  - 'drive' - get drivable public streets (but not service roads)\n",
    "  - 'drive_service' - get drivable streets, including service roads\n",
    "  - 'walk' - get all streets and paths that pedestrians can use (this network type ignores one-way directionality)\n",
    "  - 'bike' - get all streets and paths that cyclists can use\n",
    "  - 'all' - download all non-private OSM streets and paths (this is the default network type unless you specify a different one)\n",
    "  - 'all_private' - download all OSM streets and paths, including private-access ones\n",
    "  \n",
    "See OSMnx [graph_from_...()](https://osmnx.readthedocs.io/en/stable/osmnx.html#osmnx.core.graph_from_address) function APIs."
   ]
  },
  {
   "cell_type": "markdown",
   "metadata": {},
   "source": [
    " ### Streets within a bounding box\n",
    " This constructs the network from all the OSM \"nodes\" (a.k.a. intersections or vertices) and \"ways\" (a.k.a. streets, edges, links, etc.) within the bounding box."
   ]
  },
  {
   "cell_type": "code",
   "execution_count": null,
   "metadata": {
    "scrolled": true
   },
   "outputs": [],
   "source": [
    "# cell 7\n",
    "\n",
    "# define a bounding box in San Francisco\n",
    "north, south, east, west = 37.79, 37.78, -122.41, -122.43\n",
    "\n",
    "# create network from that bounding box\n",
    "G1 = osmnx.graph_from_bbox(north, south, east, west, network_type='drive')\n",
    "G1_projected = osmnx.project_graph(G1)\n",
    "\n",
    "fig, ax = osmnx.plot_graph(G1_projected)\n",
    "fig.show()"
   ]
  },
  {
   "cell_type": "code",
   "execution_count": null,
   "metadata": {},
   "outputs": [],
   "source": [
    "# cell 8\n",
    "\n",
    "type(G1)"
   ]
  },
  {
   "cell_type": "markdown",
   "metadata": {},
   "source": [
    "### Streets within a place name"
   ]
  },
  {
   "cell_type": "code",
   "execution_count": null,
   "metadata": {},
   "outputs": [],
   "source": [
    "# cell 9\n",
    "\n",
    "# create the street network within the city of Piedmont's borders\n",
    "G2 = osmnx.graph_from_place('Piedmont, California, USA')\n",
    "G2_projected = osmnx.project_graph(G2)\n",
    "\n",
    "fig, ax = osmnx.plot_graph(G2_projected)\n",
    "fig.show()"
   ]
  },
  {
   "cell_type": "markdown",
   "metadata": {},
   "source": [
    "### Streets within a distance radius\n",
    "\n",
    "This can be either a straight-line distance (implemented as a bounding box) or a network distance. \n",
    "\n",
    "If it's a *driving* network, the network distances will respect one-way streets, but if it's a *walking* network, two-way travel is allowed everywhere.\n",
    "\n",
    "OSMnx [graph_from_point()](https://osmnx.readthedocs.io/en/stable/osmnx.html#osmnx.core.graph_from_point)"
   ]
  },
  {
   "cell_type": "code",
   "execution_count": null,
   "metadata": {},
   "outputs": [],
   "source": [
    "# cell 10\n",
    "\n",
    "# define a point at the corner of California St and Mason St in SF\n",
    "location_point = (37.791427, -122.410018)\n",
    "\n",
    "# create network only of nodes within 500m walking along the network from point\n",
    "G3 = osmnx.graph_from_point(location_point, distance=500, distance_type='network', network_type='walk')\n",
    "G3 = osmnx.project_graph(G3)\n",
    "\n",
    "fig, ax = osmnx.plot_graph(G3)\n",
    "fig.show()"
   ]
  },
  {
   "cell_type": "markdown",
   "metadata": {},
   "source": [
    "### Streets within a polygon\n",
    "\n",
    "This example loads the [Mission District](http://www.zillow.com/howto/api/neighborhood-boundaries.htm)'s polygon from a shapefile, then downloads the network within its bounding box, then prunes all nodes that lie outside the place's boundary polygon."
   ]
  },
  {
   "cell_type": "code",
   "execution_count": null,
   "metadata": {
    "scrolled": true
   },
   "outputs": [],
   "source": [
    "# cell 11\n",
    "\n",
    "calif = gpd.read_file('zip://ZillowNeighborhoods-CA.zip')\n",
    "mission_district = calif[(calif['CITY']=='San Francisco') & (calif['NAME']=='Mission')]\n",
    "polygon = mission_district['geometry'].iloc[0]\n",
    "\n",
    "G4 = osmnx.graph_from_polygon(polygon, network_type='drive')\n",
    "G4_projected = osmnx.project_graph(G4)\n",
    "\n",
    "fig, ax = osmnx.plot_graph(G4_projected)\n",
    "fig.show()"
   ]
  },
  {
   "cell_type": "markdown",
   "metadata": {},
   "source": [
    "### Exercise\n",
    "\n",
    "Try getting a specific type of network for some place in the world -- (in the interest of time, don't get too big a city or other geography).  Try for walk vs drive vs some other type."
   ]
  },
  {
   "cell_type": "code",
   "execution_count": null,
   "metadata": {},
   "outputs": [],
   "source": []
  },
  {
   "cell_type": "code",
   "execution_count": null,
   "metadata": {},
   "outputs": [],
   "source": []
  },
  {
   "cell_type": "code",
   "execution_count": null,
   "metadata": {},
   "outputs": [],
   "source": []
  },
  {
   "cell_type": "markdown",
   "metadata": {
    "collapsed": true
   },
   "source": [
    "## 3. Simplifying street network topology\n",
    "\n",
    "Simplification is normally done by OSMnx automatically under the hood, but we can break it out to see how it works. OpenStreetMap nodes are weird. They include intersections, but they also include all the points along a single block where the street curves. The latter are not nodes in the graph theory sense, so we remove them algorithmically and consolidate the set of edges between \"true\" network nodes into a single edge. For a more in-depth demonstration of topological simplification with OSMnx, see [this notebook](https://github.com/gboeing/osmnx-examples/blob/master/notebooks/04-example-simplify-network.ipynb)."
   ]
  },
  {
   "cell_type": "code",
   "execution_count": null,
   "metadata": {},
   "outputs": [],
   "source": [
    "# cell 12\n",
    "\n",
    "# create a network around some (lat, lon) point but do not simplify it yet\n",
    "location_point = (33.299896, -111.831638)\n",
    "G = osmnx.graph_from_point(location_point, network_type='drive_service', distance=500, simplify=False)"
   ]
  },
  {
   "cell_type": "code",
   "execution_count": null,
   "metadata": {},
   "outputs": [],
   "source": [
    "# cell 13\n",
    "\n",
    "# turn off strict mode and see what nodes we'd remove, in red\n",
    "nc = ['b' if osmnx.is_endpoint(G, node) else 'r' for node in G.nodes()]\n",
    "fig, ax = osmnx.plot_graph(G, node_color=nc, node_zorder=3)\n",
    "fig.show()"
   ]
  },
  {
   "cell_type": "markdown",
   "metadata": {},
   "source": [
    "The red and blue dots above are OSM nodes. We'll remove the nodes in red as they're not real network nodes."
   ]
  },
  {
   "cell_type": "code",
   "execution_count": null,
   "metadata": {},
   "outputs": [],
   "source": [
    "# cell 14\n",
    "\n",
    "# simplify the network\n",
    "G = osmnx.simplify_graph(G)\n",
    "fig, ax = osmnx.plot_graph(G, node_color='b', node_zorder=3)\n",
    "fig.show()"
   ]
  },
  {
   "cell_type": "markdown",
   "metadata": {},
   "source": [
    "### Begin looking at network characteristics"
   ]
  },
  {
   "cell_type": "code",
   "execution_count": null,
   "metadata": {},
   "outputs": [],
   "source": [
    "# cell 15\n",
    "\n",
    "# show the simplified network with edges colored by edge length\n",
    "ec = osmnx.get_edge_colors_by_attr(G, attr='length')\n",
    "fig, ax = osmnx.plot_graph(G, node_color='w', node_edgecolor='k', node_size=30, \n",
    "                              node_zorder=3, edge_color=ec, edge_linewidth=3)\n",
    "fig.show()"
   ]
  },
  {
   "cell_type": "code",
   "execution_count": null,
   "metadata": {},
   "outputs": [],
   "source": [
    "# cell 16\n",
    "\n",
    "# highlight all parallel edges in purple\n",
    "ec = ['orange' if key == 0 else 'purple' for u, v, key in G.edges(keys=True)]\n",
    "fig, ax = osmnx.plot_graph(G, node_color='w', node_edgecolor='k', node_size=30, \n",
    "                              node_zorder=3, edge_color=ec, edge_linewidth=3)\n",
    "fig.show()"
   ]
  },
  {
   "cell_type": "code",
   "execution_count": null,
   "metadata": {},
   "outputs": [],
   "source": [
    "# cell 17\n",
    "\n",
    "# highlight all the one-way edges in the mission district network from earlier\n",
    "ec = ['r' if data['oneway'] else 'b' for u, v, key, data in G4_projected.edges(keys=True, data=True)]\n",
    "fig, ax = osmnx.plot_graph(G4_projected, node_size=0, edge_color=ec, edge_linewidth=1.5, edge_alpha=0.5)\n",
    "fig.show()"
   ]
  },
  {
   "cell_type": "markdown",
   "metadata": {},
   "source": [
    "## 4. Converting networks and saving them to disk\n",
    "\n",
    "Remember that the street networks are *not* GeoDataFrames -- they contain information about both **nodes** (points) and **edges** (lines). When you save them to geospatial formats like a Shapefile or GeoJSON, you'll need two separate files.\n",
    "\n",
    "For more examples of saving and loading networks to/from disk, see [this notebook](https://github.com/gboeing/osmnx-examples/blob/master/notebooks/05-example-save-load-networks-shapes.ipynb).\n",
    "\n",
    "API documentation for [saving and loading](https://osmnx.readthedocs.io/en/stable/osmnx.html#module-osmnx.save_load)"
   ]
  },
  {
   "cell_type": "code",
   "execution_count": null,
   "metadata": {},
   "outputs": [],
   "source": [
    "# cell 18\n",
    "\n",
    "# save street network in shapefile format, automatically generating two files\n",
    "osmnx.save_graph_shapefile(G4, filename='network-shape')"
   ]
  },
  {
   "cell_type": "markdown",
   "metadata": {},
   "source": [
    "### Conversion from network to GeoDataFrames"
   ]
  },
  {
   "cell_type": "code",
   "execution_count": null,
   "metadata": {},
   "outputs": [],
   "source": [
    "# cell 19\n",
    "\n",
    "# convert street network to geodataframes\n",
    "gdf_nodes, gdf_edges = osmnx.graph_to_gdfs(G4)"
   ]
  },
  {
   "cell_type": "code",
   "execution_count": null,
   "metadata": {},
   "outputs": [],
   "source": [
    "# cell 20\n",
    "\n",
    "gdf_nodes.head(3)"
   ]
  },
  {
   "cell_type": "code",
   "execution_count": null,
   "metadata": {},
   "outputs": [],
   "source": [
    "# cell 21\n",
    "\n",
    "gdf_edges.head(3)"
   ]
  },
  {
   "cell_type": "code",
   "execution_count": null,
   "metadata": {},
   "outputs": [],
   "source": [
    "# cell 22\n",
    "\n",
    "# now, you can save the GeoDataFrames directly\n",
    "# https://geopandas.org/io.html#writing-spatial-data\n",
    "\n",
    "gdf_nodes.to_file('nodes.geojson', driver='GeoJSON')"
   ]
  },
  {
   "cell_type": "markdown",
   "metadata": {},
   "source": [
    "### Exercise\n",
    "\n",
    "Take one of the street networks we've loaded, convert its edges to a GeoDataFrame, and generate a list of all the street names.\n",
    "\n",
    "Hint: the data types are a little messy, but something like this should work for the last step.\n",
    "\n",
    "`gdf_edges['name'].astype('str').unique()`"
   ]
  },
  {
   "cell_type": "code",
   "execution_count": null,
   "metadata": {},
   "outputs": [],
   "source": []
  },
  {
   "cell_type": "code",
   "execution_count": null,
   "metadata": {},
   "outputs": [],
   "source": []
  },
  {
   "cell_type": "code",
   "execution_count": null,
   "metadata": {},
   "outputs": [],
   "source": []
  },
  {
   "cell_type": "markdown",
   "metadata": {},
   "source": [
    "## 5. Network statististics (topological and metric)\n",
    "\n",
    "Network analysis is not all about shortest path calculations.  Network science is an entire field of analysis that exlores networks as mathematical / topological 'graphs'.  Also transportation planners use network structure information to inform analysis of travel behavior.  The 3Ds work by Cervero and Kockleman have evolved into 7Ds (or more) by researchers and practitioners trying to understand what urban design characteristics are associated with more walking and less driving.\n",
    "\n",
    "Below we explore functionality that OSMnx offers, with considerable help from Networkx under the hood, to provide these kinds of calculations. \n",
    "\n",
    "For more depth, see [this notebook](https://github.com/gboeing/osmnx-examples/blob/master/notebooks/06-example-osmnx-networkx.ipynb)."
   ]
  },
  {
   "cell_type": "code",
   "execution_count": null,
   "metadata": {},
   "outputs": [],
   "source": [
    "# cell 23\n",
    "\n",
    "# get the network for Piedmont and calculate its basic stats\n",
    "osmnx.basic_stats(osmnx.graph_from_place('Piedmont, California, USA'))"
   ]
  },
  {
   "cell_type": "markdown",
   "metadata": {},
   "source": [
    "## 6. Shortest path routing\n",
    "\n",
    "Let the origin node be the node nearest the location and let the destination node just be the last node in the network. Then find the shortest path between origin and destination. The edges can be weighted in various different ways, but distance or travel time are the most common approaches."
   ]
  },
  {
   "cell_type": "code",
   "execution_count": null,
   "metadata": {},
   "outputs": [],
   "source": [
    "# cell 24\n",
    "\n",
    "# define a lat-long point, create network around point, define origin/destination nodes\n",
    "location_point = (37.791427, -122.410018)\n",
    "G = osmnx.graph_from_point(location_point, distance=500, distance_type='network', network_type='walk')\n",
    "origin_node = osmnx.get_nearest_node(G, location_point)\n",
    "destination_node = list(G.nodes())[-1]"
   ]
  },
  {
   "cell_type": "code",
   "execution_count": null,
   "metadata": {
    "scrolled": true
   },
   "outputs": [],
   "source": [
    "# cell 25\n",
    "\n",
    "# find the route between these nodes then plot it\n",
    "route = nx.shortest_path(G, origin_node, destination_node)  # this is a NetworkX function\n",
    "\n",
    "fig, ax = osmnx.plot_graph_route(G, route)\n",
    "fig.show()"
   ]
  },
  {
   "cell_type": "markdown",
   "metadata": {},
   "source": [
    "### Routing from one lat-lon to another"
   ]
  },
  {
   "cell_type": "code",
   "execution_count": null,
   "metadata": {},
   "outputs": [],
   "source": [
    "# cell 26\n",
    "\n",
    "# define origin/desination points then get the nodes nearest to each\n",
    "origin_point = (37.792896, -122.412325)\n",
    "destination_point = (37.790495, -122.408353)\n",
    "\n",
    "origin_node = osmnx.get_nearest_node(G, origin_point)\n",
    "destination_node = osmnx.get_nearest_node(G, destination_point)\n",
    "origin_node, destination_node"
   ]
  },
  {
   "cell_type": "code",
   "execution_count": null,
   "metadata": {},
   "outputs": [],
   "source": [
    "# cell 27\n",
    "\n",
    "# find the shortest path between origin and destination nodes\n",
    "route = nx.shortest_path(G, origin_node, destination_node, weight='length')\n",
    "str(route)"
   ]
  },
  {
   "cell_type": "code",
   "execution_count": null,
   "metadata": {},
   "outputs": [],
   "source": [
    "# cell 28\n",
    "\n",
    "type(route)"
   ]
  },
  {
   "cell_type": "code",
   "execution_count": null,
   "metadata": {
    "scrolled": true
   },
   "outputs": [],
   "source": [
    "# cell 29\n",
    "\n",
    "# plot the route showing origin/destination lat-long points in blue\n",
    "fig, ax = osmnx.plot_graph_route(G, route, origin_point=origin_point, destination_point=destination_point)\n",
    "fig.show()"
   ]
  },
  {
   "cell_type": "markdown",
   "metadata": {},
   "source": [
    "### Distance of shortest paths\n",
    "\n",
    "API reference: NetworkX [shortest_path_length()](https://networkx.github.io/documentation/stable/reference/algorithms/generated/networkx.algorithms.shortest_paths.generic.shortest_path_length.html#networkx.algorithms.shortest_paths.generic.shortest_path_length)"
   ]
  },
  {
   "cell_type": "code",
   "execution_count": null,
   "metadata": {},
   "outputs": [],
   "source": [
    "# cell 30\n",
    "\n",
    "nx.shortest_path_length(G, source=origin_node, target=destination_node, weight='length')"
   ]
  },
  {
   "cell_type": "markdown",
   "metadata": {},
   "source": [
    "### Exercise\n",
    "\n",
    "Pick an area of a city and download the OSM street graph for it. Choose two locations and find the shortest path between them!\n",
    "\n",
    "Tip: One way to get lat-lon coordinates for arbitrary places is by right-clicking (or control-clicking) on a spot in Google Maps and choosing \"What's here\"."
   ]
  },
  {
   "cell_type": "code",
   "execution_count": null,
   "metadata": {},
   "outputs": [],
   "source": []
  },
  {
   "cell_type": "code",
   "execution_count": null,
   "metadata": {},
   "outputs": [],
   "source": []
  },
  {
   "cell_type": "code",
   "execution_count": null,
   "metadata": {},
   "outputs": [],
   "source": []
  },
  {
   "cell_type": "markdown",
   "metadata": {},
   "source": [
    "## 7. Plot a city's street network as an interactive web map\n",
    "\n",
    "OSMnx has its own helper functions for plotting interactive web maps, incase you'd like to use them.\n",
    "\n",
    "API reference: OSMnx [Plot module](https://osmnx.readthedocs.io/en/stable/osmnx.html#module-osmnx.plot)"
   ]
  },
  {
   "cell_type": "code",
   "execution_count": null,
   "metadata": {},
   "outputs": [],
   "source": [
    "# cell 31\n",
    "\n",
    "from IPython.display import IFrame"
   ]
  },
  {
   "cell_type": "code",
   "execution_count": null,
   "metadata": {},
   "outputs": [],
   "source": [
    "# cell 32\n",
    "\n",
    "# download the street network for Piedmont, CA\n",
    "G = osmnx.graph_from_place('Piedmont, California, USA', network_type='drive')"
   ]
  },
  {
   "cell_type": "code",
   "execution_count": null,
   "metadata": {},
   "outputs": [],
   "source": [
    "# cell 33\n",
    "\n",
    "# plot the street network with folium\n",
    "graph_map = osmnx.plot_graph_folium(G, popup_attribute='name', edge_width=2)"
   ]
  },
  {
   "cell_type": "code",
   "execution_count": null,
   "metadata": {},
   "outputs": [],
   "source": [
    "# cell 34\n",
    "\n",
    "# save as html file then display map as an iframe\n",
    "filepath = 'data/graph.html'\n",
    "graph_map.save(filepath)\n",
    "IFrame(filepath, width=600, height=500)"
   ]
  },
  {
   "cell_type": "markdown",
   "metadata": {},
   "source": [
    "You can zoom into the street network above or click any edge to get more info."
   ]
  },
  {
   "cell_type": "markdown",
   "metadata": {},
   "source": [
    "### Add a route"
   ]
  },
  {
   "cell_type": "code",
   "execution_count": null,
   "metadata": {},
   "outputs": [],
   "source": [
    "# cell 35\n",
    "\n",
    "# use networkx to calculate the shortest path between two nodes\n",
    "origin_node = list(G.nodes())[0]\n",
    "destination_node = list(G.nodes())[-1]\n",
    "route = nx.shortest_path(G, origin_node, destination_node)"
   ]
  },
  {
   "cell_type": "code",
   "execution_count": null,
   "metadata": {},
   "outputs": [],
   "source": [
    "# cell 36\n",
    "\n",
    "# plot the route with folium on top of the previously created graph_map\n",
    "route_graph_map = osmnx.plot_route_folium(G, route, route_map=graph_map, popup_attribute='length')"
   ]
  },
  {
   "cell_type": "code",
   "execution_count": null,
   "metadata": {
    "scrolled": false
   },
   "outputs": [],
   "source": [
    "# cell 37\n",
    "\n",
    "# save as html file then display map as an iframe\n",
    "filepath = 'data/route_graph.html'\n",
    "route_graph_map.save(filepath)\n",
    "IFrame(filepath, width=600, height=500)"
   ]
  },
  {
   "cell_type": "markdown",
   "metadata": {},
   "source": [
    "## Final exercise\n",
    "\n",
    "Experiment with the methods you find most interesting in this notebook, on a place of your own choosing. For large areas, you may need to install Ananconda locally on your computer to get around DataHub's memory and processing limits."
   ]
  },
  {
   "cell_type": "code",
   "execution_count": null,
   "metadata": {},
   "outputs": [],
   "source": []
  },
  {
   "cell_type": "code",
   "execution_count": null,
   "metadata": {},
   "outputs": [],
   "source": []
  },
  {
   "cell_type": "code",
   "execution_count": null,
   "metadata": {},
   "outputs": [],
   "source": []
  }
 ],
 "metadata": {
  "anaconda-cloud": {},
  "kernelspec": {
   "display_name": "Python 3",
   "language": "python",
   "name": "python3"
  },
  "language_info": {
   "codemirror_mode": {
    "name": "ipython",
    "version": 3
   },
   "file_extension": ".py",
   "mimetype": "text/x-python",
   "name": "python",
   "nbconvert_exporter": "python",
   "pygments_lexer": "ipython3",
   "version": "3.6.9"
  }
 },
 "nbformat": 4,
 "nbformat_minor": 1
}
