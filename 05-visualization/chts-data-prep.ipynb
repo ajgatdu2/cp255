{
 "cells": [
  {
   "cell_type": "markdown",
   "metadata": {},
   "source": [
    "# California Household Travel Survey: data prep\n",
    "\n",
    "Notebook developed by Sam Maurer\n",
    "\n",
    "This notebook loads anonymized trip records from the 2012 California Household Travel Survey (CHTS), drops most of the variables, and merges data into a single table for use in other notebooks.\n",
    "\n",
    "You can access the data and learn more about it here: https://www.nrel.gov/transportation/secure-transportation-data/tsdc-california-travel-survey.html\n",
    "\n",
    "The data dictionary is available here: [caltrans_data_dictionary.pdf](https://www.nrel.gov/transportation/secure-transportation-data/assets/pdfs/caltrans_data_dictionary.pdf)\n",
    "\n",
    "#### A note about memory-efficient data loading:\n",
    "\n",
    "Reading the full data into Pandas exhausts the memory of a 1GB JupyterHub instance, so this notebooks also illustrates some tips and tricks for reading data more efficiently!"
   ]
  },
  {
   "cell_type": "markdown",
   "metadata": {},
   "source": [
    "## Set up the data access\n",
    "\n",
    "We're using a file called `caltrans_full_survey.zip`. It's available from the link above."
   ]
  },
  {
   "cell_type": "code",
   "execution_count": null,
   "metadata": {},
   "outputs": [],
   "source": [
    "import zipfile         # a core library for working with zip files\n",
    "import requests        # third-party library for making HTTP requests\n",
    "import numpy as np\n",
    "import pandas as pd"
   ]
  },
  {
   "cell_type": "code",
   "execution_count": null,
   "metadata": {},
   "outputs": [],
   "source": [
    "# Download the file to DataHub. It includes multiple CSVs in the same archive, so\n",
    "# we can't work with it directly from a URL.\n",
    "\n",
    "url = \"https://www.dropbox.com/s/do6djp9vjzthe72/caltrans_full_survey.zip?dl=1\"\n",
    "\n",
    "# The next line is equivalent to 'f = open(...)', but defines the variable 'f' \n",
    "# only within a single code block. This automatically releases memory and \"closes\" \n",
    "# the file when the code block ends.\n",
    "\n",
    "with open('caltrans_full_survey.zip', 'wb') as f:\n",
    "    r = requests.get(url)\n",
    "    f.write(r.content)"
   ]
  },
  {
   "cell_type": "code",
   "execution_count": null,
   "metadata": {},
   "outputs": [],
   "source": [
    "# Open up the file we just saved to disk. This function lets us access the\n",
    "# individual CSVs separately.\n",
    "\n",
    "z = zipfile.ZipFile('caltrans_full_survey.zip')"
   ]
  },
  {
   "cell_type": "markdown",
   "metadata": {},
   "source": [
    "## Load the places table\n",
    "\n",
    "Think of these as *place visits* -- each row represents a location where a trip began or ended. If a place was visited multiple times or by multiple people, each visit shows up as a separate row. \n",
    "\n",
    "Table also includes information about the travel that occurred to reach each place."
   ]
  },
  {
   "cell_type": "code",
   "execution_count": null,
   "metadata": {},
   "outputs": [],
   "source": [
    "# 'usecols' lets us specify which columns to load, which for large tables can be \n",
    "# much faster and more memory-efficient.\n",
    "\n",
    "# 'low_memory=False' tells Pandas to scan more of the file before guessing data types, \n",
    "# which can reduce errors. (But it uses more memory.)\n",
    "\n",
    "places = pd.read_csv(z.open('caltrans_full_survey/survey_place.csv'), \n",
    "                     low_memory=False,\n",
    "                     usecols=['sampno','perno','plano','mode','trip_distance_miles',\n",
    "                              'prev_trip_duration_min','county_id','state','city'])\n",
    "len(places)"
   ]
  },
  {
   "cell_type": "code",
   "execution_count": null,
   "metadata": {
    "scrolled": true
   },
   "outputs": [],
   "source": [
    "places.head()"
   ]
  },
  {
   "cell_type": "markdown",
   "metadata": {},
   "source": [
    "## Load the activities table\n",
    "\n",
    "These describe what a person did at a place. Multiple activities can be associated with each place visit."
   ]
  },
  {
   "cell_type": "code",
   "execution_count": null,
   "metadata": {},
   "outputs": [],
   "source": [
    "activities = pd.read_csv(z.open('caltrans_full_survey/survey_activity.csv'), \n",
    "                         low_memory=False,\n",
    "                         usecols=['sampno','perno','plano','purpose'])\n",
    "len(activities)"
   ]
  },
  {
   "cell_type": "code",
   "execution_count": null,
   "metadata": {
    "scrolled": false
   },
   "outputs": [],
   "source": [
    "activities.head()"
   ]
  },
  {
   "cell_type": "markdown",
   "metadata": {},
   "source": [
    "## Load the persons table\n",
    "\n",
    "CHTS over- or under-sampled households with different characteristics, in order to get more detailed data about certain subsets of the population.\n",
    "\n",
    "Each household and person includes a \"weight\" indicating how to balance the observations to get accurate aggregate statistics (trip counts, mode splits, etc)."
   ]
  },
  {
   "cell_type": "code",
   "execution_count": null,
   "metadata": {},
   "outputs": [],
   "source": [
    "persons = pd.read_csv(z.open('caltrans_full_survey/survey_person.csv'), \n",
    "                         low_memory=False,\n",
    "                         usecols=['sampno','perno','perwgt'])\n",
    "len(persons)"
   ]
  },
  {
   "cell_type": "code",
   "execution_count": null,
   "metadata": {},
   "outputs": [],
   "source": [
    "persons.head()"
   ]
  },
  {
   "cell_type": "markdown",
   "metadata": {},
   "source": [
    "## Build a trips table\n",
    "\n",
    "This will include information from the places, activities, and persons tables."
   ]
  },
  {
   "cell_type": "code",
   "execution_count": null,
   "metadata": {},
   "outputs": [],
   "source": [
    "# ACTIVITY PURPOSES\n",
    "\n",
    "# 1- Personal activities (sleeping, personal care, leisure, chores); \n",
    "# 2- Preparing meals/eating; \n",
    "# 3- Hosting visitors/entertaining guests; \n",
    "# 4- Exercise (with or without equipment)/playing sports; \n",
    "# 5- Study/schoolwork; \n",
    "# 6- Work for pay at home using telecommunications equipment; \n",
    "# 7- Using computer/telephone/cell or smart phone, or other communications device for personal activities; \n",
    "# 8- All other activities at home; \n",
    "# 9- Work/job duties; \n",
    "# 10- Training; \n",
    "# 11- Meals at work; \n",
    "# 12- Work-sponsored social activities (holiday/birthday celebrations, etc.); \n",
    "# 13- Non-work-related activities (social clubs, etc.); \n",
    "# 14- Exercise/sports; \n",
    "# 15- Volunteer work/activities, \n",
    "# 16- All other work-related activities at work; \n",
    "# 17- School/ classroom/ laboratory; \n",
    "# 18- Meals at school/college; \n",
    "# 19- After-school or non-class-related sports/physical activities; \n",
    "# 20- All other after-school or non-class-related activities (library, music rehearsal, clubs, etc.); \n",
    "# 21- Change type of transportation/transfer (walk to bus, walk to/from parked car); \n",
    "# 22- pick up/drop off passenger(s); \n",
    "# 23- Drive-through meals (snacks, coffee, etc.) (show if PTYPE <> 1 [Home]); \n",
    "# 24- Drive-through other (ATM, bank, etc.) (show if PTYPE <> 1); \n",
    "# 25- Work-related (meetings, sales calls, deliveries); \n",
    "# 26- Service private vehicle (gas, oil, lubes, repairs), \n",
    "# 27- Routine shopping (groceries, clothing, convenience store, household maintenance, etc.); \n",
    "# 28- Shopping for major purchases or specialty items (appliance, electronics, new vehicles, major household repairs, etc.); \n",
    "# 29- Household errands (bank, dry cleaning, etc.); \n",
    "# 30- Personal business (visit government office, attorney, accountant, etc.); \n",
    "# 31- Eat meal at restaurant/diner; \n",
    "# 32- Health care (doctor, dentist, eye care, chiropractor, veterinarian, etc.); \n",
    "# 33- Civic/ religious activities; \n",
    "# 34- Outdoor exercise (outdoor sports, jogging, bicycling, walking the dog, etc.); \n",
    "# 35- Indoor exercise (gym, yoga, etc.); \n",
    "# 36- Entertainment (movies, sporting events, etc.); \n",
    "# 37- Social/visiting friends and relatives; \n",
    "# 38- Other (specify), \n",
    "# 39- Loop trip (for interviewer only- not listed on diary), \n",
    "# 99- DK/RF"
   ]
  },
  {
   "cell_type": "code",
   "execution_count": null,
   "metadata": {},
   "outputs": [],
   "source": [
    "activities.purpose.value_counts()"
   ]
  },
  {
   "cell_type": "code",
   "execution_count": null,
   "metadata": {},
   "outputs": [],
   "source": [
    "# Each place visit can have more than one activity, so generate some dummy\n",
    "# variables indicating which visit IDs are associated with various activity types.\n",
    "\n",
    "# Keeping only the household + person + trip IDs and then dropping duplicate rows\n",
    "# gives us a list of the unique place visits for each activity category.\n",
    "\n",
    "# Work trips\n",
    "activities_filter = activities.purpose.isin([9])\n",
    "work = activities.loc[activities_filter, ['sampno','perno','plano']].drop_duplicates()\n",
    "work['work'] = 1\n",
    "\n",
    "# Non-home, non-work (\"secondary activity\") trips\n",
    "activities_filter = activities.purpose.isin(range(23, 38+1))\n",
    "secondary = activities.loc[activities_filter, ['sampno','perno','plano']].drop_duplicates()\n",
    "secondary['secondary'] = 1\n",
    "\n",
    "# Shopping trips\n",
    "activities_filter = activities.purpose.isin([23,24,26,27,28,29,31])\n",
    "shopping = activities.loc[activities_filter, ['sampno','perno','plano']].drop_duplicates()\n",
    "shopping['shopping'] = 1\n",
    "\n",
    "# Outdoor recreation\n",
    "activities_filter = activities.purpose.isin([34])\n",
    "outdoor = activities.loc[activities_filter, ['sampno','perno','plano']].drop_duplicates()\n",
    "outdoor['outdoors'] = 1"
   ]
  },
  {
   "cell_type": "code",
   "execution_count": null,
   "metadata": {},
   "outputs": [],
   "source": [
    "# Build a trips table my merging these activity dummies into the place visits\n",
    "\n",
    "trips = pd.merge(places, work, on=['sampno','perno','plano'], how='left')\n",
    "trips = pd.merge(trips, secondary, on=['sampno','perno','plano'], how='left')\n",
    "trips = pd.merge(trips, shopping, on=['sampno','perno','plano'], how='left')\n",
    "trips = pd.merge(trips, outdoor, on=['sampno','perno','plano'], how='left')\n",
    "\n",
    "# Also include the sampling weights\n",
    "\n",
    "trips = pd.merge(trips, persons, on=['sampno','perno'], how='left')"
   ]
  },
  {
   "cell_type": "code",
   "execution_count": null,
   "metadata": {
    "scrolled": true
   },
   "outputs": [],
   "source": [
    "trips.head()"
   ]
  },
  {
   "cell_type": "markdown",
   "metadata": {},
   "source": [
    "## Save cleaned data to disk"
   ]
  },
  {
   "cell_type": "code",
   "execution_count": null,
   "metadata": {},
   "outputs": [],
   "source": [
    "# 'index=False' drops the index column, which we're not using\n",
    "\n",
    "trips.to_csv('trips.csv', index=False)"
   ]
  },
  {
   "cell_type": "code",
   "execution_count": null,
   "metadata": {},
   "outputs": [],
   "source": []
  }
 ],
 "metadata": {
  "kernelspec": {
   "display_name": "Python 3",
   "language": "python",
   "name": "python3"
  },
  "language_info": {
   "codemirror_mode": {
    "name": "ipython",
    "version": 3
   },
   "file_extension": ".py",
   "mimetype": "text/x-python",
   "name": "python",
   "nbconvert_exporter": "python",
   "pygments_lexer": "ipython3",
   "version": "3.6.9"
  }
 },
 "nbformat": 4,
 "nbformat_minor": 4
}
