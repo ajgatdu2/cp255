{
 "cells": [
  {
   "cell_type": "markdown",
   "metadata": {},
   "source": [
    "# Data visualization with Matplotlib and Seaborn\n",
    "\n",
    "Notebook developed by Sam Maurer\n",
    "\n",
    "**Matplotlib** is the original, core data visualization library for the Python data science ecosystem. It's very powerful but the syntax is kind of byzantine. https://matplotlib.org\n",
    "\n",
    "**Seaborn** is a wrapper for Matplotlib with nicer aesthetic defaults and automated templates for a variety of chart types. https://seaborn.pydata.org\n",
    "\n",
    "#### Resources\n",
    "\n",
    "- [Seaborn API reference](https://seaborn.pydata.org/api.html), highly recommended!\n",
    "\n",
    "- [Seaborn tutorials](https://seaborn.pydata.org/tutorial.html), highly recommended!\n",
    "\n",
    "- [Seaborn example gallery](https://seaborn.pydata.org/examples/index.html)\n",
    "\n",
    "- [Matplotlib API reference](https://matplotlib.org/api/index.html)\n",
    "\n",
    "- [Matplotlib example gallery](https://matplotlib.org/gallery/index.html)\n",
    "\n",
    "- [Python Data Science Handbook Chapter 4](https://jakevdp.github.io/PythonDataScienceHandbook/index.html#4.-Visualization-with-Matplotlib), highly recommended!"
   ]
  },
  {
   "cell_type": "markdown",
   "metadata": {},
   "source": [
    "## 1. Data preparation\n",
    "\n",
    "This notebook uses a data file created in `chts-data-prep.ipynb`."
   ]
  },
  {
   "cell_type": "code",
   "execution_count": null,
   "metadata": {},
   "outputs": [],
   "source": [
    "import pandas as pd"
   ]
  },
  {
   "cell_type": "code",
   "execution_count": null,
   "metadata": {},
   "outputs": [],
   "source": [
    "trips_raw = pd.read_csv('trips.csv')\n",
    "len(trips_raw)"
   ]
  },
  {
   "cell_type": "code",
   "execution_count": null,
   "metadata": {
    "scrolled": true
   },
   "outputs": [],
   "source": [
    "trips_raw.head()"
   ]
  },
  {
   "cell_type": "code",
   "execution_count": null,
   "metadata": {},
   "outputs": [],
   "source": [
    "# Filter out some missing values to make later analysis easier:\n",
    "\n",
    "trips = trips_raw.loc[trips_raw.trip_distance_miles.notnull()]\n",
    "len(trips)"
   ]
  },
  {
   "cell_type": "code",
   "execution_count": null,
   "metadata": {},
   "outputs": [],
   "source": [
    "# How many trips are there for each travel mode?\n",
    "\n",
    "trips['mode'].value_counts()"
   ]
  },
  {
   "cell_type": "code",
   "execution_count": null,
   "metadata": {},
   "outputs": [],
   "source": [
    "# Mode descriptions from the data dictionary:\n",
    "\n",
    "# 1- Walk\n",
    "# 2- Bike\n",
    "# 3- Wheelchair/mobility scooter\n",
    "# 4- Other non-motorized\n",
    "# 5- Auto/van/truck driver\n",
    "# 6- Auto/van/truck passenger\n",
    "# 7- Carpool/vanpool\n",
    "# 8- Motorcycle/scooter/moped\n",
    "# 9- Taxi/hired car/limo\n",
    "# 10- Rental car/vehicle\n",
    "# 11- Private shuttle (Super shuttle, employer, hotel, etc.)\n",
    "# 12- Greyhound bus\n",
    "# 13- Plane\n",
    "# 14- Other private transit\n",
    "# 15- Local bus, rapid bus\n",
    "# 16- Express bus/commuter bus (AC Transbay, Golden Gate Transit, etc.)\n",
    "# 17- Premium bus (Metro Orange/Silver Line)\n",
    "# 18- School bus\n",
    "# 19- Public transit shuttle (DASH, Emery Go Round, etc.)\n",
    "# 20- AirBART/LAX FlyAway\n",
    "# 21- Dial-a-ride/paratransit (access services, etc.)\n",
    "# 22- Amtrak bus\n",
    "# 23- Other bus\n",
    "# 24- BART, Metro Red/Purple Line\n",
    "# 25- ACE, Amtrak, Cal- train, Coaster, Metrolink\n",
    "# 26- Metro Blue/Green/Gold Line, Muni Metro, Sacramento Light Rail, San Diego Sprinter/Trolley/Orange/ Blue/Green, VTA light rail \n",
    "# 27- Streetcar/cable car\n",
    "# 28- Other rail\n",
    "# 29- Ferry/boat\n",
    "# 99- RF"
   ]
  },
  {
   "cell_type": "code",
   "execution_count": null,
   "metadata": {},
   "outputs": [],
   "source": [
    "# Let's set up some subsets of the trips. First, trips that fall into the \n",
    "# driving, walking, cycling, bus, and subway categories:\n",
    "\n",
    "common_trips = trips.loc[trips['mode'].isin([1,2,5,15,24])]\n",
    "len(common_trips)"
   ]
  },
  {
   "cell_type": "code",
   "execution_count": null,
   "metadata": {},
   "outputs": [],
   "source": [
    "# Trips ending in Los Angeles\n",
    "\n",
    "los_angeles = common_trips.loc[common_trips.city == 'LOS ANGELES']\n",
    "len(los_angeles)"
   ]
  },
  {
   "cell_type": "code",
   "execution_count": null,
   "metadata": {},
   "outputs": [],
   "source": [
    "# Trips ending in Berkeley\n",
    "\n",
    "berkeley = common_trips.loc[common_trips.city == 'BERKELEY']\n",
    "len(berkeley)"
   ]
  },
  {
   "cell_type": "markdown",
   "metadata": {},
   "source": [
    "## 2. Introducing Matplotlib\n",
    "\n",
    "The best way to load Matplotlib is with `import matplotlib.pyplot as plt`. Then we can use `plt` to access and control the current chart that Matplotlib is working with."
   ]
  },
  {
   "cell_type": "code",
   "execution_count": null,
   "metadata": {},
   "outputs": [],
   "source": [
    "import matplotlib.pyplot as plt"
   ]
  },
  {
   "cell_type": "code",
   "execution_count": null,
   "metadata": {},
   "outputs": [],
   "source": [
    "# Calculate trip counts\n",
    "trip_counts = common_trips.groupby('mode')['mode'].count()\n",
    "\n",
    "# Add bars to the current Matplotlib chart\n",
    "plt.bar(['walk', 'cycle', 'drive', 'bus', 'train'], trip_counts)\n",
    "\n",
    "# Display the current chart\n",
    "plt.show()"
   ]
  },
  {
   "cell_type": "markdown",
   "metadata": {},
   "source": [
    "## 3. Introducing Seaborn\n",
    "\n",
    "Seaborn runs on top of Matplotlib, automating a lot of things."
   ]
  },
  {
   "cell_type": "code",
   "execution_count": null,
   "metadata": {},
   "outputs": [],
   "source": [
    "import seaborn as sns\n",
    "sns.set()  # activate the Seaborn aesthetic defaults"
   ]
  },
  {
   "cell_type": "markdown",
   "metadata": {},
   "source": [
    "Seaborn has a template to automatically group and count observations.\n",
    "\n",
    "Count plot: https://seaborn.pydata.org/generated/seaborn.countplot.html"
   ]
  },
  {
   "cell_type": "code",
   "execution_count": null,
   "metadata": {},
   "outputs": [],
   "source": [
    "sns.countplot(data=common_trips, x='mode')\n",
    "\n",
    "plt.show()"
   ]
  },
  {
   "cell_type": "code",
   "execution_count": null,
   "metadata": {},
   "outputs": [],
   "source": [
    "# Let's clean this up a little:\n",
    "\n",
    "ax = sns.countplot(data=common_trips, x='mode', color='darkslategray')\n",
    "\n",
    "# Seaborn can pass us a Matplotlib \"axes\" object for editing the labels\n",
    "ax.set_title(\"Trip count by mode\")\n",
    "ax.set_xticklabels(['walk', 'cycle', 'drive', 'bus', 'train'])\n",
    "ax.set_xlabel('')\n",
    "\n",
    "plt.show()"
   ]
  },
  {
   "cell_type": "markdown",
   "metadata": {},
   "source": [
    "Everything you can do to the axes object: https://matplotlib.org/3.1.1/api/axes_api.html"
   ]
  },
  {
   "cell_type": "markdown",
   "metadata": {},
   "source": [
    "## 4. More ways of looking at categorical data\n",
    "\n",
    "Strip plot: https://seaborn.pydata.org/generated/seaborn.stripplot.html"
   ]
  },
  {
   "cell_type": "code",
   "execution_count": null,
   "metadata": {},
   "outputs": [],
   "source": [
    "data = berkeley.loc[berkeley.trip_distance_miles < 30]\n",
    "\n",
    "ax = sns.stripplot(x='mode', y='trip_distance_miles', data=data)\n",
    "\n",
    "ax.set_title('Trip distances by mode, Berkeley')\n",
    "ax.set_xticklabels(['walk', 'cycle', 'drive', 'bus', 'train'])\n",
    "ax.set_xlabel('')\n",
    "\n",
    "plt.show()"
   ]
  },
  {
   "cell_type": "markdown",
   "metadata": {},
   "source": [
    "Box plot: https://seaborn.pydata.org/generated/seaborn.boxplot.html"
   ]
  },
  {
   "cell_type": "code",
   "execution_count": null,
   "metadata": {
    "scrolled": true
   },
   "outputs": [],
   "source": [
    "ax = sns.boxplot(x='mode', y='trip_distance_miles', data=data)\n",
    "\n",
    "ax.set_title('Trip distances by mode, Berkeley')\n",
    "ax.set_xticklabels(['walk', 'cycle', 'drive', 'bus', 'train'])\n",
    "ax.set_xlabel('')\n",
    "\n",
    "plt.show()"
   ]
  },
  {
   "cell_type": "markdown",
   "metadata": {},
   "source": [
    "Let's clean it up a bit:"
   ]
  },
  {
   "cell_type": "code",
   "execution_count": null,
   "metadata": {},
   "outputs": [],
   "source": [
    "ax = sns.boxplot(x = 'mode', \n",
    "                 y = 'trip_distance_miles', \n",
    "                 data = data, \n",
    "                 width = 0.5,\n",
    "                 color = 'gray',\n",
    "                 showfliers = False)\n",
    "\n",
    "ax.set_title('Trip distances by mode, Berkeley')\n",
    "ax.set_xticklabels(['walk', 'cycle', 'drive', 'bus', 'train'])\n",
    "ax.set_xlabel('')\n",
    "\n",
    "plt.show()"
   ]
  },
  {
   "cell_type": "markdown",
   "metadata": {},
   "source": [
    "## 5. Looking at the distribution of a single variable\n",
    "\n",
    "Distplot: https://seaborn.pydata.org/generated/seaborn.distplot.html"
   ]
  },
  {
   "cell_type": "code",
   "execution_count": null,
   "metadata": {
    "scrolled": true
   },
   "outputs": [],
   "source": [
    "data = trips.loc[(trips['mode'] == 2) &  # bicycle trips\n",
    "                 (trips.trip_distance_miles <= 10)]\n",
    "\n",
    "# Note that a distplot takes a Series directly, rather than a DataFrame + colnames\n",
    "ax = sns.distplot(a=data.trip_distance_miles)\n",
    "\n",
    "ax.set_title('Distance of bicycle trips in California')\n",
    "plt.show()"
   ]
  },
  {
   "cell_type": "code",
   "execution_count": null,
   "metadata": {
    "scrolled": true
   },
   "outputs": [],
   "source": [
    "# Let's adjust the bins and remove the kernel density esimate:\n",
    "\n",
    "data = trips.loc[(trips['mode'] == 2) & \n",
    "                 (trips.trip_distance_miles <= 5)]\n",
    "\n",
    "ax = sns.distplot(a = data.trip_distance_miles,\n",
    "                  bins = 20,\n",
    "                  color = 'orange',\n",
    "                  kde = False)\n",
    "\n",
    "ax.set_title('Distance of bicycle trips in California')\n",
    "plt.show()"
   ]
  },
  {
   "cell_type": "markdown",
   "metadata": {},
   "source": [
    "## Exercises\n",
    "\n",
    "Plot a histogram of the distance of bus trips in Berkeley, and a second one of BART trips."
   ]
  },
  {
   "cell_type": "code",
   "execution_count": null,
   "metadata": {},
   "outputs": [],
   "source": []
  },
  {
   "cell_type": "code",
   "execution_count": null,
   "metadata": {},
   "outputs": [],
   "source": []
  },
  {
   "cell_type": "code",
   "execution_count": null,
   "metadata": {},
   "outputs": [],
   "source": []
  },
  {
   "cell_type": "markdown",
   "metadata": {},
   "source": [
    "Make a boxplot of trip distances by mode in Los Angeles. How does it compare to Berkeley?"
   ]
  },
  {
   "cell_type": "code",
   "execution_count": null,
   "metadata": {},
   "outputs": [],
   "source": []
  },
  {
   "cell_type": "code",
   "execution_count": null,
   "metadata": {},
   "outputs": [],
   "source": []
  },
  {
   "cell_type": "markdown",
   "metadata": {},
   "source": [
    "## 6. Multiple plots on a single set of axes\n",
    "\n",
    "kdeplot: https://seaborn.pydata.org/generated/seaborn.kdeplot.html"
   ]
  },
  {
   "cell_type": "code",
   "execution_count": null,
   "metadata": {},
   "outputs": [],
   "source": [
    "data = trips.loc[(trips.trip_distance_miles <= 5)]\n",
    "\n",
    "ax = sns.kdeplot(data.loc[data['mode']==1].trip_distance_miles, \n",
    "                 color = 'orange', \n",
    "                 label = 'walking trips')\n",
    "\n",
    "# Additional plots will show up on the same axes by default\n",
    "ax = sns.kdeplot(data.loc[data['mode']==2].trip_distance_miles, \n",
    "                 color = 'olive',\n",
    "                 label = 'bicycling trips')\n",
    "\n",
    "ax = sns.kdeplot(data.loc[data['mode']==15].trip_distance_miles, \n",
    "                 color = 'midnightblue',\n",
    "                 label = 'bus trips')\n",
    "\n",
    "ax.set_xlim(-.1,5)\n",
    "ax.set_xlabel('miles')\n",
    "ax.set_yticks([])\n",
    "ax.set_title('Distance distribution of trips by mode')\n",
    "plt.show()"
   ]
  },
  {
   "cell_type": "markdown",
   "metadata": {},
   "source": [
    "## 7. Multiple plots in a grid\n",
    "\n",
    "There are various different ways to do this, depending on whether you want Seaborn to construct the grid automatically based on existing data categories, on you want full control over what appears where. Check out the Seaborn examples and tutorials for more options!"
   ]
  },
  {
   "cell_type": "code",
   "execution_count": null,
   "metadata": {},
   "outputs": [],
   "source": [
    "# We'll look at trip count by mode in three different cities\n",
    "data = common_trips.loc[common_trips.city.isin(['SACRAMENTO','OAKLAND','BAKERSFIELD'])]\n",
    "\n",
    "group = sns.FacetGrid(data, col='city')\n",
    "group.map(sns.countplot, 'mode')\n",
    "\n",
    "plt.show()"
   ]
  },
  {
   "cell_type": "markdown",
   "metadata": {},
   "source": [
    "## More exercises\n",
    "\n",
    "1. Try making a scatter plot of trip distances vs. durations. How about a bivariate distplot? (You can look these up in the Seaborn tutorials!)\n",
    "  \n",
    "\n",
    "2. Explore how modes and distances vary for different trip purposes.\n",
    "  \n",
    "\n",
    "3. Explore more of the variations among cities."
   ]
  },
  {
   "cell_type": "code",
   "execution_count": null,
   "metadata": {},
   "outputs": [],
   "source": []
  },
  {
   "cell_type": "code",
   "execution_count": null,
   "metadata": {},
   "outputs": [],
   "source": []
  },
  {
   "cell_type": "code",
   "execution_count": null,
   "metadata": {},
   "outputs": [],
   "source": []
  }
 ],
 "metadata": {
  "kernelspec": {
   "display_name": "Python 3",
   "language": "python",
   "name": "python3"
  },
  "language_info": {
   "codemirror_mode": {
    "name": "ipython",
    "version": 3
   },
   "file_extension": ".py",
   "mimetype": "text/x-python",
   "name": "python",
   "nbconvert_exporter": "python",
   "pygments_lexer": "ipython3",
   "version": "3.6.9"
  }
 },
 "nbformat": 4,
 "nbformat_minor": 4
}
