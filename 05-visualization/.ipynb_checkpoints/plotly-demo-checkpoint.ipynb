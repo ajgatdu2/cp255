{
 "cells": [
  {
   "cell_type": "markdown",
   "metadata": {},
   "source": [
    "# Interactive data visualization with Plotly\n",
    "\n",
    "Notebook developed by Sam Maurer\n",
    "\n",
    "**Plotly** is a company that makes a suite of tools for building interactive data visualizations. You can work with the visualizations inside notebooks, publish the notebooks for other people to manipulate, or even embed the visualizations in web pages. https://plot.ly\n",
    "\n",
    "### Resources\n",
    "\n",
    "Plotly tutorials: https://plot.ly/python/plotly-fundamentals/\n",
    "\n",
    "Plotly API reference: https://plot.ly/python-api-reference/\n",
    "\n",
    "### Background\n",
    "\n",
    "Matplotlib and Seaborn work by generating an image file representing your visualization. (It's a PNG by default.) **Plotly generates JavaScript and HTML code instead**, which are the same components that most interactive web pages use. This allows visualizations to be interactive, as you'll see below.\n",
    "\n",
    "If you're interested in more of the technical details: Plotly is first and foremost a *JavaScript* visualization library. The Python library generates a JSON representations of your chart, which is passed along to a different library for rendering. The rendered JavaScript is what's embedded in the notebook. \n",
    "\n",
    "How does it actually turn into an image? Plotly is built on top of a library called [D3](https://d3js.org) that provides low-level tools for creating data-driven web visualizations. So Plotly builds your chart out of D3 components, and then D3 generates dynamic SVG images.\n",
    "\n",
    "### Displaying Plotly widgets in GitHub\n",
    "\n",
    "If you upload a notebook to GitHub, Matplotlib and Seaborn charts will show up automatically, because the image itself is embedded in the notebook file. Plotly charts will **not show up** -- the information is there, but GitHub doesn't render the JavaScript and HTML. \n",
    "\n",
    "There's an easy solution, though. The Jupyter team has a web tool that will fully render and display any notebook with a public URL: https://nbviewer.jupyter.org. So just copy a notebook's GitHub URL and paste it into that form, and you'll be able to use the Plotly widgets. (You can paste a Dropbox link, too!)"
   ]
  },
  {
   "cell_type": "markdown",
   "metadata": {},
   "source": [
    "## 1. Data prep\n",
    "\n",
    "This notebook uses a data file called `trips.csv`, created in `chts-data-prep.ipynb`."
   ]
  },
  {
   "cell_type": "code",
   "execution_count": null,
   "metadata": {},
   "outputs": [],
   "source": [
    "import pandas as pd"
   ]
  },
  {
   "cell_type": "code",
   "execution_count": null,
   "metadata": {},
   "outputs": [],
   "source": [
    "trips = pd.read_csv('trips.csv')\n",
    "len(trips)"
   ]
  },
  {
   "cell_type": "code",
   "execution_count": null,
   "metadata": {},
   "outputs": [],
   "source": [
    "trips.head()"
   ]
  },
  {
   "cell_type": "code",
   "execution_count": null,
   "metadata": {},
   "outputs": [],
   "source": [
    "# Filter out some missing values to make later analysis easier:\n",
    "\n",
    "trips = trips.loc[trips.trip_distance_miles.notnull()]\n",
    "len(trips)"
   ]
  },
  {
   "cell_type": "code",
   "execution_count": null,
   "metadata": {},
   "outputs": [],
   "source": [
    "# Label some travel modes (see Seaborn demo for full list)\n",
    "\n",
    "trips['mode_label'] = ''\n",
    "\n",
    "trips.loc[trips['mode'].isin([1]), 'mode_label'] = 'walk'\n",
    "trips.loc[trips['mode'].isin([2]), 'mode_label'] = 'cycle'\n",
    "trips.loc[trips['mode'].isin([5]), 'mode_label'] = 'drive'\n",
    "trips.loc[trips['mode'].isin([15,16,17]), 'mode_label'] = 'bus'\n",
    "trips.loc[trips['mode'].isin([24,26,27]), 'mode_label'] = 'train'"
   ]
  },
  {
   "cell_type": "markdown",
   "metadata": {},
   "source": [
    "## 2. Plotly Express\n",
    "\n",
    "The easiest-to-use interface to Plotly is called \"Plotly Express\": https://plot.ly/python/plotly-express/\n",
    "\n",
    "Similar to Seaborn, this has templates for generating a variety of common chart types. Here's the full list: https://plot.ly/python-api-reference/plotly.express.html"
   ]
  },
  {
   "cell_type": "code",
   "execution_count": null,
   "metadata": {},
   "outputs": [],
   "source": [
    "import plotly.express as px"
   ]
  },
  {
   "cell_type": "code",
   "execution_count": null,
   "metadata": {},
   "outputs": [],
   "source": [
    "# Let's start with a scatter plot. It takes a few seconds to generate -- this is\n",
    "# because Plotly is building an interactive widget where we can pan and zoom\n",
    "# through all 350,000 data points!\n",
    "\n",
    "fig = px.scatter(trips, x='trip_distance_miles', y='prev_trip_duration_min')\n",
    "\n",
    "# You have to add a title separately\n",
    "fig.update_layout(title='Trip distance vs. duration, California Household Travel Survey')\n",
    "\n",
    "fig.show()"
   ]
  },
  {
   "cell_type": "code",
   "execution_count": null,
   "metadata": {},
   "outputs": [],
   "source": [
    "# Let's focus on a much smaller subset of the data, and color dots by travel mode\n",
    "\n",
    "data = trips.loc[(trips.city == 'BERKELEY') &\n",
    "                 trips.mode_label.isin(['cycle','drive'])]\n",
    "\n",
    "fig = px.scatter(data, \n",
    "                 x = 'trip_distance_miles', \n",
    "                 y = 'prev_trip_duration_min',\n",
    "                 color = 'mode_label')\n",
    "\n",
    "fig.update_layout(title='Trip distance vs. duration, by travel mode')\n",
    "fig.show()"
   ]
  },
  {
   "cell_type": "markdown",
   "metadata": {},
   "source": [
    "### Exercise\n",
    "\n",
    "Try changing the city or the travel modes. Or, try creating a different kind of Plotly Express visualization: histograms are pretty straightforward too. https://plot.ly/python-api-reference/generated/plotly.express.histogram.html"
   ]
  },
  {
   "cell_type": "code",
   "execution_count": null,
   "metadata": {},
   "outputs": [],
   "source": []
  },
  {
   "cell_type": "code",
   "execution_count": null,
   "metadata": {},
   "outputs": [],
   "source": []
  },
  {
   "cell_type": "markdown",
   "metadata": {},
   "source": [
    "## 3. Plotly Graph Objects\n",
    "\n",
    "Underneath Plotly Express, there's a more detailed representation of each kind of chart in Plotly's `graph_objects` library. We have to work with these directly for certain kinds of customizations. For example, here we'll overlay two histograms in the same figure.\n",
    "\n",
    "The full list of \"Graph Object\" chart types is here (scroll down a bit): https://plot.ly/python-api-reference/"
   ]
  },
  {
   "cell_type": "code",
   "execution_count": null,
   "metadata": {},
   "outputs": [],
   "source": [
    "import plotly.graph_objects as go"
   ]
  },
  {
   "cell_type": "code",
   "execution_count": null,
   "metadata": {},
   "outputs": [],
   "source": [
    "fig = go.Figure()  # Set up an empty figure\n",
    "\n",
    "# A Plotly \"trace\" is a collection of data to be plotted\n",
    "fig.add_trace(go.Histogram(x=trips.loc[trips.shopping == 1].trip_distance_miles,\n",
    "                           histnorm = 'probability',  # normalize area of histogram to 1\n",
    "                           name = 'shopping'))\n",
    "\n",
    "fig.add_trace(go.Histogram(x=trips.loc[trips.work == 1].trip_distance_miles,\n",
    "                           histnorm = 'probability',\n",
    "                           name = 'commute'))\n",
    "\n",
    "fig.update_traces(opacity=0.75)  # reduce opacity so we can see both distributions\n",
    "fig.update_xaxes(range=[0,25])  # trim outliers\n",
    "\n",
    "fig.update_layout(barmode='overlay',  # Overlay the histograms on top of each other\n",
    "                  title='Distribution of shopping trip vs. commute trip distances')\n",
    "\n",
    "fig.show()"
   ]
  },
  {
   "cell_type": "markdown",
   "metadata": {},
   "source": [
    "## 4. Adding control: data selection, sliders, text input\n",
    "\n",
    "You can also customize Plotly's widgets to provide even more control: selecting data with drop-down menus, adjusting variables with sliders, and so on. Unfortunately, this is not so easy to set up.\n",
    "\n",
    "Here's an example of using a slider to toggle the visibility of lines on a chart: https://plot.ly/python/sliders/\n",
    "\n",
    "Here's an example using drop-down menus to control which data is displayed: https://plot.ly/python/figurewidget-app/\n",
    "\n",
    "These features are better suited for publishing an interactive visualization on the web than for exploratory data analysis, because you have to write code describing exactly what you want to happen when the input arrives. (And potentially, also set up hidden visualization elements to create the illusion of more interactivity than really exists!)\n",
    "\n",
    "### Jupyter widgets\n",
    "\n",
    "Related to this, there's also a library from the Jupyter team that provides general-purpose widgets designed specifically for Jupyter notebooks: https://ipywidgets.readthedocs.io/en/latest/examples/Using%20Interact.html\n",
    "\n",
    "You can link these to pretty much anything in your notebook, from simple text displays to Seaborn visualizations. These can be published as part of a notebook, but can't easily be embedded into other web pages."
   ]
  },
  {
   "cell_type": "code",
   "execution_count": null,
   "metadata": {},
   "outputs": [],
   "source": [
    "from ipywidgets import interact"
   ]
  },
  {
   "cell_type": "code",
   "execution_count": null,
   "metadata": {},
   "outputs": [],
   "source": [
    "# Define a function to run based on interactive input\n",
    "\n",
    "def f(x):\n",
    "    return x*2"
   ]
  },
  {
   "cell_type": "code",
   "execution_count": null,
   "metadata": {
    "scrolled": true
   },
   "outputs": [],
   "source": [
    "# Display a slider widget. 'X' is initially set to 10, and changes as the slider moves.\n",
    "# Run the function 'f()' each time the input changes, and display the output.\n",
    "\n",
    "interact(f, x=10);"
   ]
  },
  {
   "cell_type": "code",
   "execution_count": null,
   "metadata": {},
   "outputs": [],
   "source": []
  },
  {
   "cell_type": "markdown",
   "metadata": {},
   "source": [
    "## Exercises\n",
    "\n",
    "Use the remainder of class to work on loading your own data and creating some visualizations, using either Seaborn or Plotly!"
   ]
  },
  {
   "cell_type": "code",
   "execution_count": null,
   "metadata": {},
   "outputs": [],
   "source": []
  },
  {
   "cell_type": "code",
   "execution_count": null,
   "metadata": {},
   "outputs": [],
   "source": []
  },
  {
   "cell_type": "code",
   "execution_count": null,
   "metadata": {},
   "outputs": [],
   "source": []
  }
 ],
 "metadata": {
  "kernelspec": {
   "display_name": "Python 3",
   "language": "python",
   "name": "python3"
  },
  "language_info": {
   "codemirror_mode": {
    "name": "ipython",
    "version": 3
   },
   "file_extension": ".py",
   "mimetype": "text/x-python",
   "name": "python",
   "nbconvert_exporter": "python",
   "pygments_lexer": "ipython3",
   "version": "3.7.6"
  }
 },
 "nbformat": 4,
 "nbformat_minor": 4
}
