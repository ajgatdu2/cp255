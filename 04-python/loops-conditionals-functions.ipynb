{
 "cells": [
  {
   "cell_type": "markdown",
   "metadata": {},
   "source": [
    "# Python: Conditionals, data structures, functions\n",
    "\n",
    "Notebook developed by Sam Maurer\n",
    "\n",
    "This demo introduces and reviews a range of lower-level Python code structures. You'll learn how to use *conditionals* to run blocks of code only when certain conditions are met, how to loop through code and through data like lists and dictionaries, how to define your own functions, and when to use low-level data structures vs. Pandas."
   ]
  },
  {
   "cell_type": "markdown",
   "metadata": {},
   "source": [
    "## 1. Conditionals (if/then)\n",
    "\n",
    "RealPython [tutorial](https://realpython.com/python-conditional-statements/)\n",
    "\n",
    "###  `if <expression>:`\n",
    "\n",
    "This evaluates an expression, and only runs the subsequent indented code if the expression is True You'll most commonly use this embedded inside other logic, in order to perform different actions depending on what some input looks like.\n",
    "\n",
    "Optionally, an `if ... :` block can be followed with an `else:` block, which runs if the original `<expression>` evaluates to False."
   ]
  },
  {
   "cell_type": "code",
   "execution_count": null,
   "metadata": {},
   "outputs": [],
   "source": [
    "x = 17"
   ]
  },
  {
   "cell_type": "code",
   "execution_count": null,
   "metadata": {},
   "outputs": [],
   "source": [
    "if (x == 17):\n",
    "    print(\"it's 17\")\n",
    "    \n",
    "else:\n",
    "    print(\"it's not 17\")"
   ]
  },
  {
   "cell_type": "markdown",
   "metadata": {},
   "source": [
    "Try changing the value of `x` and then re-running the two cells. \n",
    "\n",
    "Note that the expression component of the `if ... :` line must evaluate to either True or False:"
   ]
  },
  {
   "cell_type": "code",
   "execution_count": null,
   "metadata": {},
   "outputs": [],
   "source": [
    "print(x==17)"
   ]
  },
  {
   "cell_type": "markdown",
   "metadata": {},
   "source": [
    "Because `x==17` is an *expression* rather than a value, Python will always evaluate it before passing it to another function."
   ]
  },
  {
   "cell_type": "code",
   "execution_count": null,
   "metadata": {},
   "outputs": [],
   "source": [
    "type(x==17)"
   ]
  },
  {
   "cell_type": "markdown",
   "metadata": {},
   "source": [
    "An `if ... :` block can also be followed with one or more `elif ... :` blocks (standing for \"else-if\"):"
   ]
  },
  {
   "cell_type": "code",
   "execution_count": null,
   "metadata": {},
   "outputs": [],
   "source": [
    "x = 0.0"
   ]
  },
  {
   "cell_type": "code",
   "execution_count": null,
   "metadata": {},
   "outputs": [],
   "source": [
    "if (x == 0):\n",
    "    print(x, \"is zero\")\n",
    "\n",
    "elif (x < 0):\n",
    "    print(x, \"is negative\")\n",
    "    \n",
    "elif (x > 0):\n",
    "    print(x, \"is positive\")\n",
    "    \n",
    "else:\n",
    "    print(x, \"is not a number\")"
   ]
  },
  {
   "cell_type": "markdown",
   "metadata": {},
   "source": [
    "## 2. Loops\n",
    "\n",
    "RealPython [tutorial](https://realpython.com/python-for-loop/)\n",
    "\n",
    "### `for <i> in range(<int>):`\n",
    "\n",
    "This runs the subsequent indented code `<int>` number of times, while giving you access to a count variable named `<i>`.\n",
    "\n",
    "You can think of `range(<int>)` as generating a list of integers from 0 to `<int>`-minus-one."
   ]
  },
  {
   "cell_type": "code",
   "execution_count": null,
   "metadata": {},
   "outputs": [],
   "source": [
    "list(range(10))"
   ]
  },
  {
   "cell_type": "code",
   "execution_count": null,
   "metadata": {},
   "outputs": [],
   "source": [
    "for i in range(5):\n",
    "    print(i/100)"
   ]
  },
  {
   "cell_type": "markdown",
   "metadata": {},
   "source": [
    "Note that in programming, just like in math, it's a convention to use `x`, `y`, or `z` to represent numerical variables, and `i`, `j`, or `k` to represent counts.\n",
    "\n",
    "It's best not to use `l` as a variable, because it looks similar to the number 1 in monospaced fonts."
   ]
  },
  {
   "cell_type": "markdown",
   "metadata": {},
   "source": [
    "### Exercise\n",
    "\n",
    "Loop through the numbers from 0 to 99 and print the ones that are evenly divisible by 15. \n",
    "\n",
    "(Tip: `a % b` gives you the remainder when `a` is divided by `b`)"
   ]
  },
  {
   "cell_type": "code",
   "execution_count": null,
   "metadata": {},
   "outputs": [],
   "source": []
  },
  {
   "cell_type": "markdown",
   "metadata": {},
   "source": [
    "## 3. Working with lists\n",
    "\n",
    "RealPython [tutorial 1](https://realpython.com/python-lists-tuples/), [tutorial 2](https://realpython.com/python-for-loop/)\n",
    "\n",
    "### `for <item> in <list>:`\n",
    "\n",
    "As we've seen, this runs the subsequent indented code for each item in the list, referring to it using the variable named `<item>`.\n",
    "\n",
    "\n",
    "### `for (<i>, <item>) in enumerate(<list>):`\n",
    "\n",
    "This variation counts the items as it loops through them, giving you a count variable named `<i>`."
   ]
  },
  {
   "cell_type": "code",
   "execution_count": null,
   "metadata": {},
   "outputs": [],
   "source": [
    "for city in ['New York', 'Los Angeles', 'Chicago']:\n",
    "    print(city)"
   ]
  },
  {
   "cell_type": "code",
   "execution_count": null,
   "metadata": {},
   "outputs": [],
   "source": [
    "for (i, city) in enumerate(['New York', 'Los Angeles', 'Chicago']):\n",
    "    print(i, '-', city)"
   ]
  },
  {
   "cell_type": "markdown",
   "metadata": {},
   "source": [
    "### `break`\n",
    "\n",
    "Invoking this keyword forces Python to exit the current loop. You might use this for looking at a small portion of a large dataset. But it's also risky to rely on `break` statements, because if it *doesn't* get triggered, your code might keep running indefinitely. (The \"stop\" button at the top of the notebook window can save you!)"
   ]
  },
  {
   "cell_type": "code",
   "execution_count": null,
   "metadata": {},
   "outputs": [],
   "source": [
    "for i in range(1000000000000000000000000):\n",
    "    print (i)\n",
    "    \n",
    "    if (i>5):\n",
    "        break"
   ]
  },
  {
   "cell_type": "markdown",
   "metadata": {},
   "source": [
    "### []\n",
    "\n",
    "This is an empty list.\n",
    "\n",
    "### `<list>.append(<item>)`\n",
    "\n",
    "This appends an item to a list.\n",
    "\n",
    "### `<list> + <list>`\n",
    "\n",
    "This concatenates (joins) two lists together into a single list."
   ]
  },
  {
   "cell_type": "code",
   "execution_count": null,
   "metadata": {},
   "outputs": [],
   "source": [
    "x = []"
   ]
  },
  {
   "cell_type": "code",
   "execution_count": null,
   "metadata": {},
   "outputs": [],
   "source": [
    "x.append(0)\n",
    "x.append(5)\n",
    "x"
   ]
  },
  {
   "cell_type": "code",
   "execution_count": null,
   "metadata": {},
   "outputs": [],
   "source": [
    "x + [10, 15]"
   ]
  },
  {
   "cell_type": "markdown",
   "metadata": {},
   "source": [
    "## 4. Working with dictionaries\n",
    "\n",
    "RealPython [tutorial](https://realpython.com/python-dicts/)\n",
    "\n",
    "### `for <key> in <dict>`\n",
    "\n",
    "This loops through the items in a dictionary. For example, you might use this to convert dictionaries into lists so that you can work with them in a table."
   ]
  },
  {
   "cell_type": "code",
   "execution_count": null,
   "metadata": {},
   "outputs": [],
   "source": [
    "d = {'AL': 'Alabama', \n",
    "     'AK': 'Alaska', \n",
    "     'AR': 'Arizona'}\n",
    "\n",
    "postcodes = []\n",
    "names = []\n",
    "\n",
    "for k in d:\n",
    "    postcodes.append(k)\n",
    "    names.append(d[k])\n",
    "\n",
    "print(postcodes)\n",
    "print(names)"
   ]
  },
  {
   "cell_type": "markdown",
   "metadata": {},
   "source": [
    "### Exercise\n",
    "\n",
    "Here's the earthquake data from last class:"
   ]
  },
  {
   "cell_type": "code",
   "execution_count": null,
   "metadata": {},
   "outputs": [],
   "source": [
    "import json\n",
    "import requests\n",
    "\n",
    "endpoint_url = \"http://earthquake.usgs.gov/earthquakes/feed/v1.0/summary/2.5_week.geojson\"\n",
    "response = requests.get(endpoint_url)\n",
    "data = json.loads(response.text)\n",
    "\n",
    "quakes = [q['properties'] for q in data['features']]\n",
    "\n",
    "# properties of the most recent earthquake\n",
    "quakes[0]"
   ]
  },
  {
   "cell_type": "markdown",
   "metadata": {},
   "source": [
    "The `quakes` variable is a list of dictionaries. Print the 'place' for the first quake."
   ]
  },
  {
   "cell_type": "code",
   "execution_count": null,
   "metadata": {},
   "outputs": [],
   "source": []
  },
  {
   "cell_type": "markdown",
   "metadata": {},
   "source": [
    "Print the 'place' for all the quakes with magnitude greater than 5.2."
   ]
  },
  {
   "cell_type": "code",
   "execution_count": null,
   "metadata": {},
   "outputs": [],
   "source": []
  },
  {
   "cell_type": "markdown",
   "metadata": {},
   "source": [
    "Did any earthquakes have a tsunami associated with them?"
   ]
  },
  {
   "cell_type": "code",
   "execution_count": null,
   "metadata": {},
   "outputs": [],
   "source": []
  },
  {
   "cell_type": "markdown",
   "metadata": {},
   "source": [
    "Print the 'place' for the first **ten** quakes with magnitude greater than 4. (There are a few different ways to do this using the syntax we've learned, but it will take a little creativity!)"
   ]
  },
  {
   "cell_type": "code",
   "execution_count": null,
   "metadata": {},
   "outputs": [],
   "source": []
  },
  {
   "cell_type": "markdown",
   "metadata": {},
   "source": [
    "## 5. Writing your own functions\n",
    "\n",
    "### `def <funcname>(<args>):`\n",
    "\n",
    "This defines a function named `<funcname>`. When called, it will run all the subsequent indented code.\n",
    "\n",
    "A function can specify one or more arguments to accept. Each argument must have a *name*, which will be used to refer to it inside the function. You should describe what the expected data looks like in comments.\n",
    "\n",
    "You can provide default values for arguments by using `<arg>=<value>` instead of `<arg>`. This makes the argument *optional*: users don't have to provide it if they're happy with the default. Optional arguments must be listed at the end, after any required arguments."
   ]
  },
  {
   "cell_type": "code",
   "execution_count": null,
   "metadata": {},
   "outputs": [],
   "source": [
    "def isdog(animal):\n",
    "    \"\"\"\n",
    "    Shoddy function for identifying dogs. 'animal' should be a string.\n",
    "    \n",
    "    \"\"\"\n",
    "    answer = False\n",
    "    \n",
    "    if animal in ['retriever', 'beagle', 'bulldog', 'labrador']:\n",
    "        answer = True\n",
    "    \n",
    "    return answer"
   ]
  },
  {
   "cell_type": "code",
   "execution_count": null,
   "metadata": {},
   "outputs": [],
   "source": [
    "isdog('beagle')"
   ]
  },
  {
   "cell_type": "code",
   "execution_count": null,
   "metadata": {},
   "outputs": [],
   "source": [
    "isdog('horse')"
   ]
  },
  {
   "cell_type": "markdown",
   "metadata": {},
   "source": [
    "A more serious example:"
   ]
  },
  {
   "cell_type": "code",
   "execution_count": null,
   "metadata": {},
   "outputs": [],
   "source": [
    "def primes(nmax=50):\n",
    "    \"\"\"\n",
    "    Finds and returns a list of all the prime numbers less than nmax. \n",
    "    Default nmax is 50 if not specified.\n",
    "    \n",
    "    \"\"\"\n",
    "    L = []\n",
    "    for n in range(2, nmax):\n",
    "        for factor in L:\n",
    "            if n % factor == 0:\n",
    "                break\n",
    "        else:\n",
    "            L.append(n)\n",
    "    return L"
   ]
  },
  {
   "cell_type": "markdown",
   "metadata": {},
   "source": [
    "You can run the function by calling `primes()`, `primes(<int>)`, or `primes(nmax=<int>)`"
   ]
  },
  {
   "cell_type": "code",
   "execution_count": null,
   "metadata": {},
   "outputs": [],
   "source": [
    "primes()"
   ]
  },
  {
   "cell_type": "markdown",
   "metadata": {},
   "source": [
    "### Exercises\n",
    "\n",
    "Write a function that takes a number between 1 and 26 and returns the associated letter of the alphabet. (Recall that you can retrieve characters out of a text string just like you would items from a list.)"
   ]
  },
  {
   "cell_type": "code",
   "execution_count": null,
   "metadata": {},
   "outputs": [],
   "source": []
  },
  {
   "cell_type": "code",
   "execution_count": null,
   "metadata": {},
   "outputs": [],
   "source": []
  },
  {
   "cell_type": "markdown",
   "metadata": {},
   "source": [
    "Write a function that takes a list of numbers and returns the first value greater than 10, or else 0 if there isn't one."
   ]
  },
  {
   "cell_type": "code",
   "execution_count": null,
   "metadata": {},
   "outputs": [],
   "source": []
  },
  {
   "cell_type": "code",
   "execution_count": null,
   "metadata": {},
   "outputs": [],
   "source": []
  },
  {
   "cell_type": "markdown",
   "metadata": {},
   "source": [
    "## 6. Lists vs. Series\n",
    "\n",
    "One of the advantages of using a Pandas `Series` instead of a native Python `list` is that you can apply calculations to all the elements at once.\n",
    "\n",
    "This means less code, and it's also more efficient computationally. So in practice, you'll mostly use list manipulation as a way to prepare data for Pandas."
   ]
  },
  {
   "cell_type": "code",
   "execution_count": null,
   "metadata": {},
   "outputs": [],
   "source": [
    "L = list(range(10))\n",
    "L"
   ]
  },
  {
   "cell_type": "markdown",
   "metadata": {},
   "source": [
    "How can we add 1 to each entry? `L + 1` will give you an error.\n",
    "\n",
    "One approach:"
   ]
  },
  {
   "cell_type": "code",
   "execution_count": null,
   "metadata": {},
   "outputs": [],
   "source": [
    "L2 = []\n",
    "\n",
    "for (i, val) in enumerate(L):\n",
    "    L2.append(val + 1)\n",
    "    \n",
    "L2"
   ]
  },
  {
   "cell_type": "markdown",
   "metadata": {},
   "source": [
    "Or, more cryptically:"
   ]
  },
  {
   "cell_type": "code",
   "execution_count": null,
   "metadata": {},
   "outputs": [],
   "source": [
    "[(val + 1) for val in L]"
   ]
  },
  {
   "cell_type": "markdown",
   "metadata": {},
   "source": [
    "But in Pandas, math operates on the individual values. Whenever possible, this is the better way to do things!"
   ]
  },
  {
   "cell_type": "code",
   "execution_count": null,
   "metadata": {},
   "outputs": [],
   "source": [
    "import pandas as pd\n",
    "\n",
    "S = pd.Series(L) + 1\n",
    "\n",
    "print(S.values)  # .values turns the Series back into a list, which prints nicer here"
   ]
  },
  {
   "cell_type": "markdown",
   "metadata": {},
   "source": [
    "For more complicated transformations, you can also apply a function to a Series, running it automatically on each row:\n",
    "\n",
    "### `pd.Series.apply(<function>)`, documentation [here](https://pandas.pydata.org/pandas-docs/version/0.23.4/generated/pandas.Series.apply.html)\n",
    "\n",
    "This runs a function on each value in a Series. The function should take a single value and return a single value. (More complicated transformations are possible too.)"
   ]
  },
  {
   "cell_type": "code",
   "execution_count": null,
   "metadata": {},
   "outputs": [],
   "source": [
    "# Set up a function that performs a numerical transformation\n",
    "\n",
    "prime_list = primes(10000)\n",
    "\n",
    "def nth_prime(n):\n",
    "    \"\"\"\n",
    "    Returns the nth prime number, up to around 1000.\n",
    "    \n",
    "    \"\"\"\n",
    "    return prime_list[n]"
   ]
  },
  {
   "cell_type": "code",
   "execution_count": null,
   "metadata": {},
   "outputs": [],
   "source": [
    "locations = pd.Series([14, 50, 85, 97, 148, 740, 390, 999])\n",
    "\n",
    "print(locations.values)"
   ]
  },
  {
   "cell_type": "code",
   "execution_count": null,
   "metadata": {},
   "outputs": [],
   "source": [
    "print(locations.apply(nth_prime).values)"
   ]
  },
  {
   "cell_type": "markdown",
   "metadata": {},
   "source": [
    "### Exercise\n",
    "\n",
    "Write a function that takes a number and returns a category name: \"Negative\", \"Positive\", or \"Really big\". (You can decide where the cutoffs are.)\n",
    "\n",
    "Then apply the function to a column of data."
   ]
  },
  {
   "cell_type": "code",
   "execution_count": null,
   "metadata": {},
   "outputs": [],
   "source": []
  },
  {
   "cell_type": "code",
   "execution_count": null,
   "metadata": {},
   "outputs": [],
   "source": []
  },
  {
   "cell_type": "code",
   "execution_count": null,
   "metadata": {},
   "outputs": [],
   "source": []
  }
 ],
 "metadata": {
  "kernelspec": {
   "display_name": "Python 3",
   "language": "python",
   "name": "python3"
  },
  "language_info": {
   "codemirror_mode": {
    "name": "ipython",
    "version": 3
   },
   "file_extension": ".py",
   "mimetype": "text/x-python",
   "name": "python",
   "nbconvert_exporter": "python",
   "pygments_lexer": "ipython3",
   "version": "3.6.9"
  }
 },
 "nbformat": 4,
 "nbformat_minor": 4
}
