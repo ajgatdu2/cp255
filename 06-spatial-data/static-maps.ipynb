{
 "cells": [
  {
   "cell_type": "markdown",
   "metadata": {},
   "source": [
    "# Making static maps with GeoPandas and Matplotlib\n",
    "\n",
    "Notebook developed by Sam Maurer, with some of the content adapted from GeoPandas tutorials [[1](https://geopandas.org/mapping.html), [2](https://geopandas.org/gallery/plotting_with_geoplot.html)] and the [replication notebooks](https://github.com/ual/displacement-chapter-replication) for a book chapter.\n",
    "\n",
    "----\n",
    "\n",
    "As with non-geospatial visualizations, there is an ecoystem of Python tools for making maps  powered by **Matplotlib**. Generally, the approach is either to treat geospatial coordinates directly as x-y values, or to re-project them on the fly and plot the projected values.\n",
    "\n",
    "These are the go-to tools for making static maps:\n",
    "\n",
    "**GeoPandas** has commands for generating maps directly from a GeoDataFrame.\n",
    "- https://geopandas.org/mapping.html (user's guide)\n",
    "- https://geopandas.org/reference.html#geopandas.GeoDataFrame.plot (all the plotting arguments)\n",
    "- https://geopandas.org/gallery/index.html (gallery of examples)\n",
    "\n",
    "**GeoPlot** has templates for a variety of common map types, and lets you set map projections on the fly. It's aiming to be the \"Seaborn\" of map generation.\n",
    "- https://residentmario.github.io/geoplot/ (user's guide)\n",
    "- https://residentmario.github.io/geoplot/api_reference.html (all the templates + arguments)\n",
    "- https://residentmario.github.io/geoplot/gallery/index.html (gallery of examples)\n",
    "\n",
    "**CartoPy** provides behind-the scenes building blocks, for example for projecting map data or for turning it into shapes that can be displayed by Matplotlib. But it can be difficult to work with directly.\n",
    "- https://scitools.org.uk/cartopy (user's guide)"
   ]
  },
  {
   "cell_type": "code",
   "execution_count": null,
   "metadata": {},
   "outputs": [],
   "source": [
    "import matplotlib.pyplot as plt\n",
    "import geopandas as gpd"
   ]
  },
  {
   "cell_type": "markdown",
   "metadata": {},
   "source": [
    "## 1. Load data\n",
    "\n",
    "We'll start off by looking at a data file of country outlines (and some other characteristics) that's provided with GeoPandas. It comes from [Natural Earth](https://www.naturalearthdata.com), which is a nice resource for map data."
   ]
  },
  {
   "cell_type": "code",
   "execution_count": null,
   "metadata": {},
   "outputs": [],
   "source": [
    "countries = gpd.read_file(gpd.datasets.get_path('naturalearth_lowres'))"
   ]
  },
  {
   "cell_type": "code",
   "execution_count": null,
   "metadata": {},
   "outputs": [],
   "source": [
    "countries.head()"
   ]
  },
  {
   "cell_type": "markdown",
   "metadata": {},
   "source": [
    "## 2. Making a map directly from GeoPandas\n",
    "\n",
    "API reference for `geopandas.GeoDataFrame.plot()`: https://geopandas.org/reference.html#geopandas.GeoDataFrame.plot"
   ]
  },
  {
   "cell_type": "code",
   "execution_count": null,
   "metadata": {},
   "outputs": [],
   "source": [
    "countries.plot()\n",
    "\n",
    "plt.show()  # invoking Matplotlib/PyPlot, as we've always done"
   ]
  },
  {
   "cell_type": "code",
   "execution_count": null,
   "metadata": {},
   "outputs": [],
   "source": [
    "# Cleaning up the formatting a bit:\n",
    "\n",
    "countries.plot(color='none', edgecolor='black', linewidth=1, figsize=(14,10))\n",
    "\n",
    "plt.show()"
   ]
  },
  {
   "cell_type": "markdown",
   "metadata": {},
   "source": [
    "It looks a little distored. **What's the coordinate reference system?**"
   ]
  },
  {
   "cell_type": "code",
   "execution_count": null,
   "metadata": {},
   "outputs": [],
   "source": [
    "countries.crs"
   ]
  },
  {
   "cell_type": "markdown",
   "metadata": {},
   "source": [
    "https://epsg.io/4326 = WGS84 lat/lon\n",
    "\n",
    "**GeoPandas does not re-project your data when making a map.** When you call `geopandas.GeoDataFrame.plot()`, it plots the coordinate values directly on an x-y axis.\n",
    "\n",
    "Incidentally, treating latitude and longitude as x-y coorindates has a name: it's called a plate carée or equirectangular projection: https://en.wikipedia.org/wiki/Equirectangular_projection\n",
    "\n",
    "We *could* change the projection by changing the GeoDataFrame's coordinate reference system, but we're not going to right now -- there's another tool that lets you apply projections on the fly."
   ]
  },
  {
   "cell_type": "markdown",
   "metadata": {},
   "source": [
    "## 3. Making a map using GeoPlot\n",
    "\n",
    "GeoPlot has templates for a variety of common map types, and lets you set map projections on the fly. It's aiming to be the \"Seaborn\" of map generation.\n",
    "\n",
    "It's not installed in DataHub, so we'll install it in the following cell. (You will have to do this each time your server restarts.) `%%capture` suppresses output from the cell, just to keep the notebook tidy."
   ]
  },
  {
   "cell_type": "code",
   "execution_count": null,
   "metadata": {},
   "outputs": [],
   "source": [
    "%%capture\n",
    "!pip install geoplot;"
   ]
  },
  {
   "cell_type": "code",
   "execution_count": null,
   "metadata": {},
   "outputs": [],
   "source": [
    "import geoplot"
   ]
  },
  {
   "cell_type": "markdown",
   "metadata": {},
   "source": [
    "All the **GeoPlot templates** and their arguments: https://residentmario.github.io/geoplot/api_reference.html"
   ]
  },
  {
   "cell_type": "code",
   "execution_count": null,
   "metadata": {},
   "outputs": [],
   "source": [
    "# A polyplot shows simple shapes. The default settings are pretty nice looking.\n",
    "\n",
    "geoplot.polyplot(countries, figsize=(14,10))\n",
    "\n",
    "plt.show()"
   ]
  },
  {
   "cell_type": "markdown",
   "metadata": {},
   "source": [
    "### Setting the map projection\n",
    "\n",
    "In GeoPlot, you can set the map projection on the fly! Here are all the built-in options: https://residentmario.github.io/geoplot/api_reference.html#projections"
   ]
  },
  {
   "cell_type": "code",
   "execution_count": null,
   "metadata": {},
   "outputs": [],
   "source": [
    "ax = geoplot.polyplot(countries, projection=geoplot.crs.Robinson())\n",
    "\n",
    "ax.outline_patch.set_visible(True)  # show the map outline\n",
    "\n",
    "plt.show()"
   ]
  },
  {
   "cell_type": "markdown",
   "metadata": {},
   "source": [
    "### Exercises\n",
    "\n",
    "1. Adapt one of the GeoPlot maps to show just one continent (hint: try filtering the rows in the GeoDataFrame)\n",
    "  \n",
    "\n",
    "2. A **choropleth** map shades in areas according to the value of a related variable. Try doing this with your continent map, coloring in countries according to their population or GDP (these are columns in the data table). \n",
    "\n",
    "  You'll need to use the `geoplot.choropleth()` function instead of `polyplot()`, and add a parameter `hue='<colname>'` indicating which column to draw data from.\n",
    "  \n",
    "\n",
    "3. Using the whole world, try setting the GeoPlot projection to `Orthographic()`"
   ]
  },
  {
   "cell_type": "code",
   "execution_count": null,
   "metadata": {},
   "outputs": [],
   "source": []
  },
  {
   "cell_type": "code",
   "execution_count": null,
   "metadata": {},
   "outputs": [],
   "source": []
  },
  {
   "cell_type": "code",
   "execution_count": null,
   "metadata": {},
   "outputs": [],
   "source": []
  },
  {
   "cell_type": "markdown",
   "metadata": {},
   "source": [
    "## 4. Multiple data layers\n",
    "\n",
    "Often, you'll want to show multiple datasets on a map at the same time. You can mix and match the libraries, since they're all working on top of Matplotlib. But a big challenge is that **all the coordinate reference systems and map projections have to match up** -- or at least be close enough that the data appears in the correct place. \n",
    "\n",
    "The best strategy is to stick to one of these two approaches:\n",
    "\n",
    "1. **Use GeoPlot for all the layers**, and set them to the same projection.\n",
    "  \n",
    "  \n",
    "2. Or, **don't set any projections**, and make sure all the layers have a similar coordinate reference system (e.g., lat-lon). "
   ]
  },
  {
   "cell_type": "code",
   "execution_count": null,
   "metadata": {},
   "outputs": [],
   "source": [
    "# Let's load the storefront data that we downloaded in `spatial-data.ipynb`\n",
    "\n",
    "storefronts = gpd.read_file('all56_nACSxMSA__41860.0.geojson')"
   ]
  },
  {
   "cell_type": "code",
   "execution_count": null,
   "metadata": {
    "scrolled": true
   },
   "outputs": [],
   "source": [
    "# Plot a map\n",
    "\n",
    "ax = geoplot.pointplot(storefronts, s = 1)  # size of each point\n",
    "\n",
    "ax.set_title(\"Storefronts in the Bay Area\")\n",
    "\n",
    "plt.show()"
   ]
  },
  {
   "cell_type": "markdown",
   "metadata": {},
   "source": [
    "### Adding coastline\n",
    "\n",
    "The biggest single improvement we can make is probably to add in the coastline, which will give people familiar with the Bay Area a clearer sense of what they're looking at.\n",
    "\n",
    "An aside about **locating background map data**:\n",
    "\n",
    "When you start visualizing geosptial data, all of a sudden you have to find appropriate *background* datasets to include in your maps: country borders, states, counties, etc. \n",
    "\n",
    "[Natural Earth](https://www.naturalearthdata.com), mentioned above, is a nice resource for this. So is the U.S. Census [TIGER](https://www.census.gov/geographies/mapping-files/time-series/geo/tiger-line-file.html) data. That stands for Topologically Integrated Geographic Encoding and Referencing, obviously.\n",
    "\n",
    "Generally, you want to look for what's called *\"cartographic\"* shapefiles for this: not the administrative boundaries, which might extend out into the ocean, but the common-sense boundaries that people are most familiar with."
   ]
  },
  {
   "cell_type": "code",
   "execution_count": null,
   "metadata": {},
   "outputs": [],
   "source": [
    "# Download a cartographic shapefile of the 50 states, which will include coastline\n",
    "\n",
    "import requests\n",
    "url = 'https://www2.census.gov/geo/tiger/GENZ2016/shp/cb_2016_us_state_500k.zip'\n",
    "\n",
    "with open('cb_2016_us_state_500k.zip', 'wb') as f:\n",
    "    r = requests.get(url)\n",
    "    f.write(r.content)"
   ]
  },
  {
   "cell_type": "code",
   "execution_count": null,
   "metadata": {},
   "outputs": [],
   "source": [
    "outlines = gpd.read_file('zip://cb_2016_us_state_500k.zip')"
   ]
  },
  {
   "cell_type": "code",
   "execution_count": null,
   "metadata": {},
   "outputs": [],
   "source": [
    "# Plot the coastline data we just loaded\n",
    "ax = geoplot.polyplot(outlines, \n",
    "                      projection = geoplot.crs.AlbersEqualArea(),\n",
    "                      extent = (-123, 36.9, -121.4, 38.7))  # lower left, upper right\n",
    "\n",
    "# Overlay the storefront points\n",
    "geoplot.pointplot(storefronts, \n",
    "                  projection = geoplot.crs.AlbersEqualArea(),\n",
    "                  ax = ax,  # add it to the axes created above\n",
    "                  s = 1)\n",
    "\n",
    "ax.set_title(\"Storefronts in the Bay Area\")\n",
    "\n",
    "plt.show()"
   ]
  },
  {
   "cell_type": "markdown",
   "metadata": {},
   "source": [
    "### Exercises\n",
    "\n",
    "4. Load the earthquakes data we've used in earlier demos.\n",
    "\n",
    "  Add them on top of the state outlines (instead of the storefronts), and change the map extent to show a larger area. Or, add them on top of the world map.\n",
    "  \n",
    "  \n",
    "5. If you'd like more practice with this, try using a **spatial join** (see `spatial-data.ipynb`) to calculate how many earthquakes occurred within the boundaries of each state, or country of the world. Make a choropleth map coloring in the states or countries based on earthquake frequency.\n",
    "\n",
    "  To include earthquakes off the coast, you could use GeoPandas to create a **buffer** around each country, and then perform the join using the buffered shapes."
   ]
  },
  {
   "cell_type": "code",
   "execution_count": null,
   "metadata": {},
   "outputs": [],
   "source": []
  },
  {
   "cell_type": "code",
   "execution_count": null,
   "metadata": {},
   "outputs": [],
   "source": []
  },
  {
   "cell_type": "code",
   "execution_count": null,
   "metadata": {},
   "outputs": [],
   "source": []
  },
  {
   "cell_type": "markdown",
   "metadata": {},
   "source": [
    "## 5. Bonus: Multiple layers using Matplotlib\n",
    "\n",
    "This code illustrates how you can mix-and-match map shapes with other kinds of data visualizations and annotations in Matplotlib. It can take a while to work out all the syntax to accomplish things like this, but it's quite powerful."
   ]
  },
  {
   "cell_type": "code",
   "execution_count": null,
   "metadata": {},
   "outputs": [],
   "source": [
    "# Pull latitude and longitude out into normal DataFrame columns\n",
    "\n",
    "storefronts['lon'] = storefronts.geometry.x\n",
    "storefronts['lat'] = storefronts.geometry.y"
   ]
  },
  {
   "cell_type": "markdown",
   "metadata": {},
   "source": [
    "https://matplotlib.org/3.1.1/api/_as_gen/matplotlib.pyplot.hexbin.html"
   ]
  },
  {
   "cell_type": "code",
   "execution_count": null,
   "metadata": {},
   "outputs": [],
   "source": [
    "fig, ax = plt.subplots(figsize=(10,10))\n",
    "\n",
    "# Plot coastline using GeoPandas\n",
    "outlines.plot(ax=ax, color='whitesmoke', edgecolor='black')\n",
    "\n",
    "# Plot hexbins of storefronts using Matplotlib\n",
    "hb = plt.hexbin(storefronts.lon, storefronts.lat, bins='log', mincnt=1, gridsize=180)\n",
    "\n",
    "# Add a key\n",
    "cb = fig.colorbar(hb, ax=ax)\n",
    "cb.set_label('Count')\n",
    "\n",
    "# Add some annotations\n",
    "plt.annotate(s='San Francisco', xy=(-122.55, 37.8), bbox=dict(facecolor='white'))\n",
    "plt.annotate(s='Berkeley', xy=(-122.3, 37.9), bbox=dict(facecolor='white'))\n",
    "plt.annotate(s='Oakland', xy=(-122.25, 37.8), bbox=dict(facecolor='white'))\n",
    "\n",
    "# Title and bounds\n",
    "ax.set_title('Storefronts in the Bay Area')\n",
    "ax.set_xlim((-122.6, -121.9))\n",
    "ax.set_ylim((37.4, 38.2))\n",
    "\n",
    "plt.show()"
   ]
  },
  {
   "cell_type": "code",
   "execution_count": null,
   "metadata": {},
   "outputs": [],
   "source": []
  }
 ],
 "metadata": {
  "kernelspec": {
   "display_name": "Python 3",
   "language": "python",
   "name": "python3"
  },
  "language_info": {
   "codemirror_mode": {
    "name": "ipython",
    "version": 3
   },
   "file_extension": ".py",
   "mimetype": "text/x-python",
   "name": "python",
   "nbconvert_exporter": "python",
   "pygments_lexer": "ipython3",
   "version": "3.6.9"
  }
 },
 "nbformat": 4,
 "nbformat_minor": 4
}
