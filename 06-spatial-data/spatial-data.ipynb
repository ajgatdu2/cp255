{
 "cells": [
  {
   "cell_type": "markdown",
   "metadata": {},
   "source": [
    "# Working with spatial data\n",
    "\n",
    "Notebook developed by Sam Maurer\n",
    "\n",
    "This demo introduces some basic geospatial analysis operations in Python. We'll look at distance calculations, loading geospatial datasets, what the data types look like, and how to perform spatial joins. Some helpful tools:\n",
    "\n",
    "#### GeoPandas\n",
    "- extension to Pandas to support operations with geospatial data\n",
    "- https://geopandas.org\n",
    "\n",
    "#### Shapely\n",
    "- low-level spatial data types and processing algorithms\n",
    "- https://shapely.readthedocs.io/en/latest/manual.html\n",
    "\n",
    "#### Fiona\n",
    "- reading spatial data files (other libraries use this behind the scenes)\n",
    "- https://fiona.readthedocs.io/\n",
    "\n",
    "#### GeoPy\n",
    "- distance algorithms and automated geocoding\n",
    "- https://geopy.readthedocs.io/"
   ]
  },
  {
   "cell_type": "markdown",
   "metadata": {},
   "source": [
    "## 1. Calculating distances\n",
    "\n",
    "You can perform geospatial analysis in Python even without starting from an existing dataset. Here we'll calculate the great-circle distance between New York and San Francisco.\n",
    "\n",
    "https://geopy.readthedocs.io/en/stable/#module-geopy.distance  \n",
    "https://en.wikipedia.org/wiki/Great-circle_distance"
   ]
  },
  {
   "cell_type": "code",
   "execution_count": null,
   "metadata": {},
   "outputs": [],
   "source": [
    "from geopy.distance import great_circle"
   ]
  },
  {
   "cell_type": "code",
   "execution_count": null,
   "metadata": {},
   "outputs": [],
   "source": [
    "# Look up latitude and longitude coorindates with a web search\n",
    "\n",
    "sanfrancisco = (-122.4, 37.8)  # lon, lat\n",
    "newyork = (-74.0, 40.7)"
   ]
  },
  {
   "cell_type": "code",
   "execution_count": null,
   "metadata": {},
   "outputs": [],
   "source": [
    "great_circle(sanfrancisco, newyork)"
   ]
  },
  {
   "cell_type": "code",
   "execution_count": null,
   "metadata": {},
   "outputs": [],
   "source": [
    "# This isn't doing a web query or anything; it's just doing math. We can \n",
    "# convert the units like this:\n",
    "\n",
    "great_circle(sanfrancisco, newyork).miles"
   ]
  },
  {
   "cell_type": "markdown",
   "metadata": {},
   "source": [
    "### Exercise\n",
    "\n",
    "What's the distance in kilometers between San Francisco and Los Angeles? \n",
    "\n",
    "What are the units that are being retured by default?"
   ]
  },
  {
   "cell_type": "code",
   "execution_count": null,
   "metadata": {},
   "outputs": [],
   "source": []
  },
  {
   "cell_type": "code",
   "execution_count": null,
   "metadata": {},
   "outputs": [],
   "source": []
  },
  {
   "cell_type": "markdown",
   "metadata": {},
   "source": [
    "## 2. Reading geospatial data files\n",
    "\n",
    "It's easy to read geospatial data files using GeoPandas: shapefiles, GeoJSON, etc.\n",
    "\n",
    "https://geopandas.org"
   ]
  },
  {
   "cell_type": "code",
   "execution_count": null,
   "metadata": {},
   "outputs": [],
   "source": [
    "import requests"
   ]
  },
  {
   "cell_type": "code",
   "execution_count": null,
   "metadata": {},
   "outputs": [],
   "source": [
    "import geopandas as gpd\n",
    "print(gpd.__version__)  # note this is a pretty old version"
   ]
  },
  {
   "cell_type": "code",
   "execution_count": null,
   "metadata": {},
   "outputs": [],
   "source": [
    "# download Bay Area storefronts - http://cityobservatory.org/storefront/\n",
    "\n",
    "url = 'https://github.com/dillonma/storefrontindex/raw/master/all56_nACSxMSA__41860.0.geojson'\n",
    "\n",
    "with open('all56_nACSxMSA__41860.0.geojson', 'wb') as f:\n",
    "    r = requests.get(url)\n",
    "    f.write(r.content)"
   ]
  },
  {
   "cell_type": "code",
   "execution_count": null,
   "metadata": {},
   "outputs": [],
   "source": [
    "# download California census tracts\n",
    "\n",
    "url = 'https://www2.census.gov/geo/tiger/TIGER2010/TRACT/2010/tl_2010_06_tract10.zip'\n",
    "\n",
    "with open('tl_2010_06_tract10.zip', 'wb') as f:\n",
    "    r = requests.get(url)\n",
    "    f.write(r.content)"
   ]
  },
  {
   "cell_type": "code",
   "execution_count": null,
   "metadata": {},
   "outputs": [],
   "source": [
    "# Load the storefronts as a GeoDataFrame\n",
    "\n",
    "storefronts = gpd.read_file('all56_nACSxMSA__41860.0.geojson')"
   ]
  },
  {
   "cell_type": "code",
   "execution_count": null,
   "metadata": {},
   "outputs": [],
   "source": [
    "# Load the census tracts as a GeoDataFrame\n",
    "\n",
    "tracts = gpd.read_file('zip://tl_2010_06_tract10.zip')  # 'zip://' prefix clarifies format"
   ]
  },
  {
   "cell_type": "markdown",
   "metadata": {},
   "source": [
    "## 3. Looking at point data\n",
    "\n",
    "GeoPandas provides interfaces that are very similar to Pandas.\n",
    "\n",
    "https://geopandas.readthedocs.io/en/v0.3.0/data_structures.html"
   ]
  },
  {
   "cell_type": "code",
   "execution_count": null,
   "metadata": {
    "scrolled": false
   },
   "outputs": [],
   "source": [
    "storefronts.head()"
   ]
  },
  {
   "cell_type": "code",
   "execution_count": null,
   "metadata": {},
   "outputs": [],
   "source": [
    "len(storefronts)"
   ]
  },
  {
   "cell_type": "code",
   "execution_count": null,
   "metadata": {},
   "outputs": [],
   "source": [
    "# What's the data type?\n",
    "\n",
    "type(storefronts)"
   ]
  },
  {
   "cell_type": "code",
   "execution_count": null,
   "metadata": {},
   "outputs": [],
   "source": [
    "# Inside, most of the columns are normal Pandas Series\n",
    "\n",
    "type(storefronts.CITY)"
   ]
  },
  {
   "cell_type": "code",
   "execution_count": null,
   "metadata": {},
   "outputs": [],
   "source": [
    "# But the \"geometry\" column is special\n",
    "\n",
    "type(storefronts.geometry)"
   ]
  },
  {
   "cell_type": "code",
   "execution_count": null,
   "metadata": {},
   "outputs": [],
   "source": [
    "# What's each of the items?\n",
    "\n",
    "one_point = storefronts.geometry[0]\n",
    "\n",
    "type(one_point)"
   ]
  },
  {
   "cell_type": "markdown",
   "metadata": {},
   "source": [
    "https://shapely.readthedocs.io/en/latest/manual.html#points"
   ]
  },
  {
   "cell_type": "code",
   "execution_count": null,
   "metadata": {},
   "outputs": [],
   "source": [
    "print(one_point)"
   ]
  },
  {
   "cell_type": "code",
   "execution_count": null,
   "metadata": {},
   "outputs": [],
   "source": [
    "# Shapely points, lines, and polygons have various automatic attributes\n",
    "\n",
    "print(one_point.x)\n",
    "print(one_point.y)"
   ]
  },
  {
   "cell_type": "code",
   "execution_count": null,
   "metadata": {},
   "outputs": [],
   "source": [
    "# You can create a Point object from coordinates, too\n",
    "\n",
    "from shapely.geometry.point import Point\n",
    "\n",
    "new_point = Point(-122.4, 37.8)\n",
    "\n",
    "print(new_point)"
   ]
  },
  {
   "cell_type": "markdown",
   "metadata": {},
   "source": [
    "## 4. Looking at polygon data"
   ]
  },
  {
   "cell_type": "code",
   "execution_count": null,
   "metadata": {},
   "outputs": [],
   "source": [
    "tracts.head(2)"
   ]
  },
  {
   "cell_type": "code",
   "execution_count": null,
   "metadata": {
    "scrolled": true
   },
   "outputs": [],
   "source": [
    "len(tracts)"
   ]
  },
  {
   "cell_type": "code",
   "execution_count": null,
   "metadata": {},
   "outputs": [],
   "source": [
    "one_polygon = tracts.geometry[0]\n",
    "\n",
    "type(one_polygon)"
   ]
  },
  {
   "cell_type": "code",
   "execution_count": null,
   "metadata": {},
   "outputs": [],
   "source": [
    "print(one_polygon)"
   ]
  },
  {
   "cell_type": "markdown",
   "metadata": {},
   "source": [
    "## 5. Performing a spatial join\n",
    "\n",
    "Having the data in this tidy format lets us do things like perform a *spatial join*, where we calculate which census tract each storefront falls inside.\n",
    "\n",
    "https://geopandas.org/mergingdata.html#spatial-joins"
   ]
  },
  {
   "cell_type": "code",
   "execution_count": null,
   "metadata": {},
   "outputs": [],
   "source": [
    "# The syntax is just like pd.merge()\n",
    "\n",
    "merged = gpd.sjoin(storefronts, tracts, how='inner', op='contains')"
   ]
  },
  {
   "cell_type": "code",
   "execution_count": null,
   "metadata": {},
   "outputs": [],
   "source": [
    "# Ok, so the coordinate reference systems don't match. What do we do?\n",
    "\n",
    "print(storefronts.crs)\n",
    "print(tracts.crs)"
   ]
  },
  {
   "cell_type": "markdown",
   "metadata": {},
   "source": [
    "https://epsg.io/4326  \n",
    "https://epsg.io/4269  \n",
    "https://www.esri.com/arcgis-blog/products/arcgis-desktop/mapping/wgs84-vs-nad83/\n",
    "\n",
    "We need to reproject one of the datasets into the coordinate reference system of the other one."
   ]
  },
  {
   "cell_type": "code",
   "execution_count": null,
   "metadata": {},
   "outputs": [],
   "source": [
    "%%time\n",
    "\n",
    "storefronts_proj = storefronts.to_crs('epsg:4269')"
   ]
  },
  {
   "cell_type": "code",
   "execution_count": null,
   "metadata": {},
   "outputs": [],
   "source": [
    "# The previous cell takes a long time to run, so we're going to cheat\n",
    "# and just change the metadata without actually re-projecting the points.\n",
    "# In this case it's fine because WGS84 and NAD83 are very similar --\n",
    "# but DON'T DO THIS unless you're sure it's ok!\n",
    "\n",
    "storefronts_proj = storefronts.copy()\n",
    "storefronts_proj.crs = tracts.crs"
   ]
  },
  {
   "cell_type": "code",
   "execution_count": null,
   "metadata": {},
   "outputs": [],
   "source": [
    "%%time\n",
    "\n",
    "merged = gpd.sjoin(storefronts_proj[['CITY','ZIP','geometry']],  # only keep a few columns\n",
    "                   tracts[['GEOID10','geometry']], \n",
    "                   how='inner', \n",
    "                   op='intersects')"
   ]
  },
  {
   "cell_type": "code",
   "execution_count": null,
   "metadata": {},
   "outputs": [],
   "source": [
    "merged.head()"
   ]
  },
  {
   "cell_type": "code",
   "execution_count": null,
   "metadata": {},
   "outputs": [],
   "source": [
    "# Check that the number of resulting data points makes sense\n",
    "\n",
    "len(merged)"
   ]
  },
  {
   "cell_type": "markdown",
   "metadata": {},
   "source": [
    "## 6. Analyzing the merged data\n",
    "\n",
    "Now that we have a census tract ID associated with each of the storefronts, we can analyze that information just like in Pandas.\n",
    "\n",
    "For example, we know that census tracts all have a roughly similar residential population. How much do they vary in number of storefronts?"
   ]
  },
  {
   "cell_type": "code",
   "execution_count": null,
   "metadata": {},
   "outputs": [],
   "source": [
    "merged.groupby('GEOID10').GEOID10.count().describe()"
   ]
  },
  {
   "cell_type": "markdown",
   "metadata": {},
   "source": [
    "## Exercises\n",
    "\n",
    "Try loading another spatial dataset into GeoPandas. (If you don't have any handy from your project, you could use the earthquake data from earlier demos.)\n",
    "\n",
    "What are the data types? Do basic operations like getting descriptive statistics work ok?\n",
    "\n",
    "Do the coordinates look like lat-lon, or are they other units? What's the coordinate reference system?\n",
    "\n",
    "Try doing a spatial join. For example, here's some built-in data about countries that you could merge with the earthquakes:\n",
    "\n",
    "`world = gpd.read_file(gpd.datasets.get_path('naturalearth_lowres'))`"
   ]
  },
  {
   "cell_type": "code",
   "execution_count": null,
   "metadata": {},
   "outputs": [],
   "source": []
  },
  {
   "cell_type": "code",
   "execution_count": null,
   "metadata": {},
   "outputs": [],
   "source": []
  },
  {
   "cell_type": "code",
   "execution_count": null,
   "metadata": {},
   "outputs": [],
   "source": []
  }
 ],
 "metadata": {
  "kernelspec": {
   "display_name": "Python 3",
   "language": "python",
   "name": "python3"
  },
  "language_info": {
   "codemirror_mode": {
    "name": "ipython",
    "version": 3
   },
   "file_extension": ".py",
   "mimetype": "text/x-python",
   "name": "python",
   "nbconvert_exporter": "python",
   "pygments_lexer": "ipython3",
   "version": "3.6.9"
  }
 },
 "nbformat": 4,
 "nbformat_minor": 4
}
